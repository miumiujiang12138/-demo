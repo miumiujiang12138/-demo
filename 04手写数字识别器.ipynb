{
 "cells": [
  {
   "cell_type": "markdown",
   "metadata": {},
   "source": [
    "# 我卷卷卷（卷积神经网络）"
   ]
  },
  {
   "cell_type": "code",
   "execution_count": 1,
   "metadata": {},
   "outputs": [],
   "source": [
    "import os\n",
    "os.environ[\"KMP_DUPLICATE_LIB_OK\"]=\"TRUE\""
   ]
  },
  {
   "cell_type": "code",
   "execution_count": 2,
   "metadata": {},
   "outputs": [],
   "source": [
    "# 导入所需要的包。\n",
    "import torch\n",
    "import torch.nn as nn\n",
    "import torch.optim as optim\n",
    "import torch.nn.functional as F\n",
    "\n",
    "import torchvision.datasets as dsets\n",
    "import torchvision.transforms as transforms\n",
    "\n",
    "import matplotlib.pyplot as plt\n",
    "import numpy as np\n",
    "\n",
    "%matplotlib inline"
   ]
  },
  {
   "cell_type": "markdown",
   "metadata": {},
   "source": [
    "## 一、加载数据"
   ]
  },
  {
   "cell_type": "markdown",
   "metadata": {},
   "source": [
    "1. 首先，我们需要学习PyTorch自带的数据加载器，包括dataset，sampler，以及data loader这三个对象组成的套件。\n",
    "2. 当数据集很小，格式比较规则的时候，数据加载三套件的优势并不明显。但是当数据格式比较特殊，以及数据规模很大（内存无法同时加载所有数据）\n",
    "的时候，特别是，我们需要用不同的处理器来加载数据的时候，三套件的威力就会显现出来了。它会将数据加载、分布的任务自动完成。\n",
    "3. 在使用的时候，我们用dataset来装载数据集，用sampler来采样数据集。而对数据集的迭代、循环则主要通过data_loader来完成。\n",
    "4. 创建一个data_loader就需要一个dataset和一个datasampler，它基本实现的就是利用sampler自动从dataset种采样"
   ]
  },
  {
   "cell_type": "code",
   "execution_count": 3,
   "metadata": {},
   "outputs": [],
   "source": [
    "\n",
    "# 定义超参数 \n",
    "image_size = 28  #图像的总尺寸28*28\n",
    "num_classes = 10  #标签的种类数\n",
    "num_epochs = 20  #训练的总循环周期\n",
    "batch_size = 64  #一个撮（批次）的大小，64张图片\n",
    "\n",
    "# 加载MINIST数据，如果没有下载过，就会在当前路径下新建/data子目录，并把文件存放其中\n",
    "# MNIST数据是属于torchvision包自带的数据，所以可以直接调用。\n",
    "# 在调用自己的数据的时候，我们可以用torchvision.datasets.ImageFolder或者torch.utils.data.TensorDataset来加载\n",
    "train_dataset = dsets.MNIST(root='./data',  #文件存放路径\n",
    "                            train=True,   #提取训练集\n",
    "                            transform=transforms.ToTensor(),  #将图像转化为Tensor，在加载数据的时候，就可以对图像做预处理\n",
    "                            download=True) #当找不到文件的时候，自动下载\n",
    "\n",
    "# 加载测试数据集\n",
    "test_dataset = dsets.MNIST(root='./data', \n",
    "                           train=False, \n",
    "                           transform=transforms.ToTensor())\n",
    "\n",
    "# 训练数据集的加载器，自动将数据分割成batch，顺序随机打乱\n",
    "train_loader = torch.utils.data.DataLoader(dataset=train_dataset, \n",
    "                                           batch_size=batch_size, \n",
    "                                           shuffle=True)\n",
    "\n",
    "'''我们希望将测试数据分成两部分，一部分作为校验数据，一部分作为测试数据。\n",
    "校验数据用于检测模型是否过拟合，并调整参数，测试数据检验整个模型的工作'''\n",
    "\n",
    "\n",
    "# 首先，我们定义下标数组indices，它相当于对所有test_dataset中数据的编码\n",
    "# 然后定义下标indices_val来表示校验集数据的那些下标，indices_test表示测试集的下标\n",
    "indices = range(len(test_dataset))\n",
    "indices_val = indices[:5000]\n",
    "indices_test = indices[5000:]\n",
    "\n",
    "# 根据这些下标，构造两个数据集的SubsetRandomSampler采样器，它会对下标进行采样\n",
    "sampler_val = torch.utils.data.sampler.SubsetRandomSampler(indices_val)\n",
    "sampler_test = torch.utils.data.sampler.SubsetRandomSampler(indices_test)\n",
    "\n",
    "# 根据两个采样器来定义加载器，注意将sampler_val和sampler_test分别赋值给了validation_loader和test_loader\n",
    "validation_loader = torch.utils.data.DataLoader(dataset =test_dataset,\n",
    "                                                batch_size = batch_size,\n",
    "                                                sampler = sampler_val\n",
    "                                               )\n",
    "test_loader = torch.utils.data.DataLoader(dataset=test_dataset, \n",
    "                                          batch_size=batch_size, \n",
    "                                          sampler = sampler_test\n",
    "                                         )"
   ]
  },
  {
   "cell_type": "code",
   "execution_count": 4,
   "metadata": {},
   "outputs": [
    {
     "name": "stdout",
     "output_type": "stream",
     "text": [
      "标签是： 0\n"
     ]
    },
    {
     "data": {
      "image/png": "[encoded data removed]",
      "text/plain": [
       "<Figure size 640x480 with 1 Axes>"
      ]
     },
     "metadata": {},
     "output_type": "display_data"
    }
   ],
   "source": [
    "#随便从数据集中读入一张图片，并绘制出来\n",
    "idx = 1000\n",
    "\n",
    "#dataset支持下标索引，其中提取出来的每一个元素为features，target格式，即属性和标签。[0]表示索引features\n",
    "muteimg = train_dataset[idx][0].numpy()\n",
    "#由于一般的图像包含rgb三个通道，而MINST数据集的图像都是灰度的，只有一个通道。因此，我们忽略通道，把图像看作一个灰度矩阵。\n",
    "#用imshow画图，会将灰度矩阵自动展现为彩色，不同灰度对应不同颜色：从黄到紫\n",
    "\n",
    "plt.imshow(muteimg[0,...])\n",
    "print('标签是：',train_dataset[idx][1])"
   ]
  },
  {
   "cell_type": "markdown",
   "metadata": {},
   "source": [
    "## 二、基本的卷积神经网络"
   ]
  },
  {
   "cell_type": "markdown",
   "metadata": {},
   "source": [
    "### 2.1 构建网络"
   ]
  },
  {
   "cell_type": "markdown",
   "metadata": {},
   "source": [
    "注：在这里，我们将主要调用PyTorch强大的nn.Module这个类来构建卷积神经网络。我们分成如下这几个步骤：\n",
    "\n",
    "1. 首先，我们构造ConvNet类，它是对类nn.Module的继承（即nn.Module是父类，ConvNet为子类。如果这些概念不熟悉，请参考面向对象编程）\n",
    "2. 然后，我们复写__init__，以及forward这两个函数。第一个为构造函数，每当类ConvNet被具体化一个实例的时候，就会调用，forward则是\n",
    "在运行神经网络正向的时候会被自动调用\n",
    "3. 自定义自己的方法\n",
    "\n",
    "另一需要理解的是，ConvNet其实也是一个大容器，它里面有Conv2d，MaxPool2d等组件"
   ]
  },
  {
   "cell_type": "code",
   "execution_count": 5,
   "metadata": {},
   "outputs": [],
   "source": [
    "#定义卷积神经网络：4和8为人为指定的两个卷积层的厚度（feature map的数量）\n",
    "depth = [4, 8]\n",
    "class ConvNet(nn.Module):\n",
    "    def __init__(self):\n",
    "        # 该函数在创建一个ConvNet对象的时候，即调用如下语句：net=ConvNet()，就会被调用\n",
    "        # 首先调用父类相应的构造函数\n",
    "        super(ConvNet, self).__init__()\n",
    "        \n",
    "        # 其次构造ConvNet需要用到的各个神经模块。\n",
    "        '''注意，定义组件并没有真正搭建这些组件，只是把基本建筑砖块先找好'''\n",
    "        self.conv1 = nn.Conv2d(1, 4, 5, padding = 2) #定义一个卷积层，输入通道为1，输出通道为4，窗口大小为5，padding为2\n",
    "        self.pool = nn.MaxPool2d(2, 2) #定义一个Pooling层，一个窗口为2*2的pooling运算\n",
    "        self.conv2 = nn.Conv2d(depth[0], depth[1], 5, padding = 2) #第二层卷积，输入通道为depth[0], \n",
    "                                                                   #输出通道为depth[1]，窗口为5，padding为2\n",
    "        self.fc1 = nn.Linear(image_size // 4 * image_size // 4 * depth[1] , 512) \n",
    "                                                            #一个线性连接层，输入尺寸为最后一层立方体的平铺，输出层512个节点\n",
    "        self.fc2 = nn.Linear(512, num_classes) #最后一层线性分类单元，输入为512，输出为要做分类的类别数\n",
    "\n",
    "    def forward(self, x):\n",
    "        #该函数完成神经网络真正的前向运算，我们会在这里把各个组件进行实际的拼装\n",
    "        #x的尺寸：(batch_size, image_channels, image_width, image_height)\n",
    "        x = F.relu(self.conv1(x))  #第一层卷积，激活函数用ReLu，为了防止过拟合\n",
    "        #x的尺寸：(batch_size, num_filters, image_width, image_height)\n",
    "        x = self.pool(x) #第二层pooling，将图片变小\n",
    "        #x的尺寸：(batch_size, depth[0], image_width/2, image_height/2)\n",
    "        x = F.relu(self.conv2(x)) #第三层又是卷积，窗口为5，输入输出通道分别为depth[0]=4, depth[1]=8\n",
    "        #x的尺寸：(batch_size, depth[1], image_width/2, image_height/2)\n",
    "        x = self.pool(x) #第四层pooling，将图片缩小到原大小的1/4\n",
    "        #x的尺寸：(batch_size, depth[1], image_width/4, image_height/4)\n",
    "        \n",
    "        # 将立体的特征图Tensor，压成一个一维的向量\n",
    "        # view这个函数可以将一个tensor按指定的方式重新排布。\n",
    "        # 下面这个命令就是要让x按照batch_size * (image_size//4)^2*depth[1]的方式来排布向量\n",
    "        x = x.view(-1, image_size // 4 * image_size // 4 * depth[1])\n",
    "        #x的尺寸：(batch_size, depth[1]*image_width/4*image_height/4)\n",
    "        \n",
    "        x = F.relu(self.fc1(x)) #第五层为全链接，ReLu激活函数\n",
    "        #x的尺寸：(batch_size, 512)\n",
    "\n",
    "        x = F.dropout(x, training=self.training) #以默认为0.5的概率对这一层进行dropout操作，为了防止过拟合\n",
    "        x = self.fc2(x) #全链接\n",
    "        #x的尺寸：(batch_size, num_classes)\n",
    "        \n",
    "        x = F.log_softmax(x, dim = 0) #输出层为log_softmax，即概率对数值log(p(x))。采用log_softmax可以使得后面的交叉熵计算更快\n",
    "        return x\n",
    "    \n",
    "    def retrieve_features(self, x):\n",
    "        #该函数专门用于提取卷积神经网络的特征图的功能，返回feature_map1, feature_map2为前两层卷积层的特征图\n",
    "        feature_map1 = F.relu(self.conv1(x)) #完成第一层卷积\n",
    "        x = self.pool(feature_map1)  # 完成第一层pooling\n",
    "        feature_map2 = F.relu(self.conv2(x)) #第二层卷积，两层特征图都存储到了feature_map1, feature_map2中\n",
    "        return (feature_map1, feature_map2)\n",
    "    "
   ]
  },
  {
   "cell_type": "markdown",
   "metadata": {},
   "source": [
    "### 2.2 训练这个卷积神经网络"
   ]
  },
  {
   "cell_type": "code",
   "execution_count": 6,
   "metadata": {},
   "outputs": [],
   "source": [
    "def rightness(predictions, labels):\n",
    "    \"\"\"计算预测错误率的函数，其中predictions是模型给出的一组预测结果，batch_size行num_classes列的矩阵，labels是数据之中的正确答案\"\"\"\n",
    "    pred = torch.max(predictions.data, 1)[1] # 对于任意一行（一个样本）的输出值的第1个维度，求最大，得到每一行的最大元素的下标\n",
    "    rights = pred.eq(labels.data.view_as(pred)).sum() #将下标与labels中包含的类别进行比较，并累计得到比较正确的数量\n",
    "    return rights, len(labels) #返回正确的数量和这一次一共比较了多少元素\n"
   ]
  },
  {
   "cell_type": "code",
   "execution_count": 7,
   "metadata": {
    "scrolled": true
   },
   "outputs": [
    {
     "name": "stdout",
     "output_type": "stream",
     "text": [
      "(tensor(403), 5000)\n",
      "训练周期: 0 [0/60000 (0%)]\tLoss: 2.302672\t训练正确率: 4.69%\t校验正确率: 8.06%\n",
      "(tensor(1971), 5000)\n",
      "训练周期: 0 [6400/60000 (11%)]\tLoss: 2.281620\t训练正确率: 14.28%\t校验正确率: 39.42%\n",
      "(tensor(3004), 5000)\n",
      "训练周期: 0 [12800/60000 (21%)]\tLoss: 2.239106\t训练正确率: 23.11%\t校验正确率: 60.08%\n",
      "(tensor(3239), 5000)\n",
      "训练周期: 0 [19200/60000 (32%)]\tLoss: 1.879666\t训练正确率: 31.16%\t校验正确率: 64.78%\n",
      "(tensor(3607), 5000)\n",
      "训练周期: 0 [25600/60000 (43%)]\tLoss: 1.073073\t训练正确率: 38.52%\t校验正确率: 72.14%\n",
      "(tensor(3916), 5000)\n",
      "训练周期: 0 [32000/60000 (53%)]\tLoss: 0.798146\t训练正确率: 44.95%\t校验正确率: 78.32%\n",
      "(tensor(4037), 5000)\n",
      "训练周期: 0 [38400/60000 (64%)]\tLoss: 0.812888\t训练正确率: 49.98%\t校验正确率: 80.74%\n",
      "(tensor(4151), 5000)\n",
      "训练周期: 0 [44800/60000 (75%)]\tLoss: 0.655041\t训练正确率: 54.10%\t校验正确率: 83.02%\n",
      "(tensor(4221), 5000)\n",
      "训练周期: 0 [51200/60000 (85%)]\tLoss: 0.697965\t训练正确率: 57.53%\t校验正确率: 84.42%\n",
      "(tensor(4269), 5000)\n",
      "训练周期: 0 [57600/60000 (96%)]\tLoss: 0.498201\t训练正确率: 60.29%\t校验正确率: 85.38%\n",
      "(tensor(4287), 5000)\n",
      "训练周期: 1 [0/60000 (0%)]\tLoss: 0.490795\t训练正确率: 79.69%\t校验正确率: 85.74%\n",
      "(tensor(4337), 5000)\n",
      "训练周期: 1 [6400/60000 (11%)]\tLoss: 0.525298\t训练正确率: 84.20%\t校验正确率: 86.74%\n",
      "(tensor(4411), 5000)\n",
      "训练周期: 1 [12800/60000 (21%)]\tLoss: 0.461932\t训练正确率: 85.22%\t校验正确率: 88.22%\n",
      "(tensor(4439), 5000)\n",
      "训练周期: 1 [19200/60000 (32%)]\tLoss: 0.380392\t训练正确率: 85.84%\t校验正确率: 88.78%\n",
      "(tensor(4468), 5000)\n",
      "训练周期: 1 [25600/60000 (43%)]\tLoss: 0.389479\t训练正确率: 86.31%\t校验正确率: 89.36%\n",
      "(tensor(4465), 5000)\n",
      "训练周期: 1 [32000/60000 (53%)]\tLoss: 0.480492\t训练正确率: 86.51%\t校验正确率: 89.30%\n",
      "(tensor(4523), 5000)\n",
      "训练周期: 1 [38400/60000 (64%)]\tLoss: 0.234068\t训练正确率: 86.87%\t校验正确率: 90.46%\n",
      "(tensor(4546), 5000)\n",
      "训练周期: 1 [44800/60000 (75%)]\tLoss: 0.293567\t训练正确率: 87.22%\t校验正确率: 90.92%\n",
      "(tensor(4582), 5000)\n",
      "训练周期: 1 [51200/60000 (85%)]\tLoss: 0.162818\t训练正确率: 87.52%\t校验正确率: 91.64%\n",
      "(tensor(4561), 5000)\n",
      "训练周期: 1 [57600/60000 (96%)]\tLoss: 0.439316\t训练正确率: 87.85%\t校验正确率: 91.22%\n",
      "(tensor(4584), 5000)\n",
      "训练周期: 2 [0/60000 (0%)]\tLoss: 0.400099\t训练正确率: 89.06%\t校验正确率: 91.68%\n",
      "(tensor(4579), 5000)\n",
      "训练周期: 2 [6400/60000 (11%)]\tLoss: 0.334029\t训练正确率: 90.39%\t校验正确率: 91.58%\n",
      "(tensor(4601), 5000)\n",
      "训练周期: 2 [12800/60000 (21%)]\tLoss: 0.227959\t训练正确率: 90.82%\t校验正确率: 92.02%\n",
      "(tensor(4610), 5000)\n",
      "训练周期: 2 [19200/60000 (32%)]\tLoss: 0.288364\t训练正确率: 91.22%\t校验正确率: 92.20%\n",
      "(tensor(4648), 5000)\n",
      "训练周期: 2 [25600/60000 (43%)]\tLoss: 0.292965\t训练正确率: 91.49%\t校验正确率: 92.96%\n",
      "(tensor(4674), 5000)\n",
      "训练周期: 2 [32000/60000 (53%)]\tLoss: 0.126405\t训练正确率: 91.65%\t校验正确率: 93.48%\n",
      "(tensor(4662), 5000)\n",
      "训练周期: 2 [38400/60000 (64%)]\tLoss: 0.335441\t训练正确率: 91.78%\t校验正确率: 93.24%\n",
      "(tensor(4693), 5000)\n",
      "训练周期: 2 [44800/60000 (75%)]\tLoss: 0.180287\t训练正确率: 91.91%\t校验正确率: 93.86%\n",
      "(tensor(4679), 5000)\n",
      "训练周期: 2 [51200/60000 (85%)]\tLoss: 0.177319\t训练正确率: 92.07%\t校验正确率: 93.58%\n",
      "(tensor(4681), 5000)\n",
      "训练周期: 2 [57600/60000 (96%)]\tLoss: 0.161025\t训练正确率: 92.25%\t校验正确率: 93.62%\n",
      "(tensor(4685), 5000)\n",
      "训练周期: 3 [0/60000 (0%)]\tLoss: 0.226281\t训练正确率: 92.19%\t校验正确率: 93.70%\n",
      "(tensor(4701), 5000)\n",
      "训练周期: 3 [6400/60000 (11%)]\tLoss: 0.170347\t训练正确率: 93.29%\t校验正确率: 94.02%\n",
      "(tensor(4691), 5000)\n",
      "训练周期: 3 [12800/60000 (21%)]\tLoss: 0.301540\t训练正确率: 93.59%\t校验正确率: 93.82%\n",
      "(tensor(4702), 5000)\n",
      "训练周期: 3 [19200/60000 (32%)]\tLoss: 0.307272\t训练正确率: 93.70%\t校验正确率: 94.04%\n",
      "(tensor(4715), 5000)\n",
      "训练周期: 3 [25600/60000 (43%)]\tLoss: 0.186141\t训练正确率: 93.80%\t校验正确率: 94.30%\n",
      "(tensor(4706), 5000)\n",
      "训练周期: 3 [32000/60000 (53%)]\tLoss: 0.152855\t训练正确率: 93.93%\t校验正确率: 94.12%\n",
      "(tensor(4751), 5000)\n",
      "训练周期: 3 [38400/60000 (64%)]\tLoss: 0.200240\t训练正确率: 93.89%\t校验正确率: 95.02%\n",
      "(tensor(4730), 5000)\n",
      "训练周期: 3 [44800/60000 (75%)]\tLoss: 0.266971\t训练正确率: 93.87%\t校验正确率: 94.60%\n",
      "(tensor(4745), 5000)\n",
      "训练周期: 3 [51200/60000 (85%)]\tLoss: 0.154779\t训练正确率: 93.95%\t校验正确率: 94.90%\n",
      "(tensor(4743), 5000)\n",
      "训练周期: 3 [57600/60000 (96%)]\tLoss: 0.099378\t训练正确率: 93.99%\t校验正确率: 94.86%\n",
      "(tensor(4765), 5000)\n",
      "训练周期: 4 [0/60000 (0%)]\tLoss: 0.325798\t训练正确率: 90.62%\t校验正确率: 95.30%\n",
      "(tensor(4743), 5000)\n",
      "训练周期: 4 [6400/60000 (11%)]\tLoss: 0.073264\t训练正确率: 94.69%\t校验正确率: 94.86%\n",
      "(tensor(4744), 5000)\n",
      "训练周期: 4 [12800/60000 (21%)]\tLoss: 0.098940\t训练正确率: 94.54%\t校验正确率: 94.88%\n",
      "(tensor(4752), 5000)\n",
      "训练周期: 4 [19200/60000 (32%)]\tLoss: 0.111937\t训练正确率: 94.73%\t校验正确率: 95.04%\n",
      "(tensor(4770), 5000)\n",
      "训练周期: 4 [25600/60000 (43%)]\tLoss: 0.109073\t训练正确率: 94.79%\t校验正确率: 95.40%\n",
      "(tensor(4759), 5000)\n",
      "训练周期: 4 [32000/60000 (53%)]\tLoss: 0.088439\t训练正确率: 94.81%\t校验正确率: 95.18%\n",
      "(tensor(4762), 5000)\n",
      "训练周期: 4 [38400/60000 (64%)]\tLoss: 0.349545\t训练正确率: 94.83%\t校验正确率: 95.24%\n",
      "(tensor(4765), 5000)\n",
      "训练周期: 4 [44800/60000 (75%)]\tLoss: 0.090977\t训练正确率: 94.90%\t校验正确率: 95.30%\n",
      "(tensor(4789), 5000)\n",
      "训练周期: 4 [51200/60000 (85%)]\tLoss: 0.081571\t训练正确率: 94.94%\t校验正确率: 95.78%\n",
      "(tensor(4779), 5000)\n",
      "训练周期: 4 [57600/60000 (96%)]\tLoss: 0.181881\t训练正确率: 94.96%\t校验正确率: 95.58%\n",
      "(tensor(4781), 5000)\n",
      "训练周期: 5 [0/60000 (0%)]\tLoss: 0.228039\t训练正确率: 93.75%\t校验正确率: 95.62%\n",
      "(tensor(4790), 5000)\n",
      "训练周期: 5 [6400/60000 (11%)]\tLoss: 0.209870\t训练正确率: 95.11%\t校验正确率: 95.80%\n",
      "(tensor(4787), 5000)\n",
      "训练周期: 5 [12800/60000 (21%)]\tLoss: 0.074316\t训练正确率: 95.23%\t校验正确率: 95.74%\n",
      "(tensor(4784), 5000)\n",
      "训练周期: 5 [19200/60000 (32%)]\tLoss: 0.045678\t训练正确率: 95.32%\t校验正确率: 95.68%\n",
      "(tensor(4805), 5000)\n",
      "训练周期: 5 [25600/60000 (43%)]\tLoss: 0.246941\t训练正确率: 95.36%\t校验正确率: 96.10%\n",
      "(tensor(4808), 5000)\n",
      "训练周期: 5 [32000/60000 (53%)]\tLoss: 0.115632\t训练正确率: 95.43%\t校验正确率: 96.16%\n",
      "(tensor(4790), 5000)\n",
      "训练周期: 5 [38400/60000 (64%)]\tLoss: 0.152816\t训练正确率: 95.48%\t校验正确率: 95.80%\n",
      "(tensor(4800), 5000)\n",
      "训练周期: 5 [44800/60000 (75%)]\tLoss: 0.088070\t训练正确率: 95.54%\t校验正确率: 96.00%\n",
      "(tensor(4801), 5000)\n",
      "训练周期: 5 [51200/60000 (85%)]\tLoss: 0.131795\t训练正确率: 95.58%\t校验正确率: 96.02%\n",
      "(tensor(4807), 5000)\n",
      "训练周期: 5 [57600/60000 (96%)]\tLoss: 0.105970\t训练正确率: 95.57%\t校验正确率: 96.14%\n",
      "(tensor(4792), 5000)\n",
      "训练周期: 6 [0/60000 (0%)]\tLoss: 0.178246\t训练正确率: 93.75%\t校验正确率: 95.84%\n",
      "(tensor(4813), 5000)\n",
      "训练周期: 6 [6400/60000 (11%)]\tLoss: 0.154894\t训练正确率: 95.88%\t校验正确率: 96.26%\n",
      "(tensor(4807), 5000)\n",
      "训练周期: 6 [12800/60000 (21%)]\tLoss: 0.121935\t训练正确率: 95.69%\t校验正确率: 96.14%\n",
      "(tensor(4791), 5000)\n",
      "训练周期: 6 [19200/60000 (32%)]\tLoss: 0.093476\t训练正确率: 95.58%\t校验正确率: 95.82%\n",
      "(tensor(4811), 5000)\n",
      "训练周期: 6 [25600/60000 (43%)]\tLoss: 0.083665\t训练正确率: 95.64%\t校验正确率: 96.22%\n",
      "(tensor(4816), 5000)\n",
      "训练周期: 6 [32000/60000 (53%)]\tLoss: 0.155768\t训练正确率: 95.71%\t校验正确率: 96.32%\n",
      "(tensor(4816), 5000)\n",
      "训练周期: 6 [38400/60000 (64%)]\tLoss: 0.205799\t训练正确率: 95.74%\t校验正确率: 96.32%\n",
      "(tensor(4827), 5000)\n",
      "训练周期: 6 [44800/60000 (75%)]\tLoss: 0.113972\t训练正确率: 95.83%\t校验正确率: 96.54%\n",
      "(tensor(4818), 5000)\n",
      "训练周期: 6 [51200/60000 (85%)]\tLoss: 0.043495\t训练正确率: 95.89%\t校验正确率: 96.36%\n",
      "(tensor(4817), 5000)\n",
      "训练周期: 6 [57600/60000 (96%)]\tLoss: 0.081885\t训练正确率: 95.91%\t校验正确率: 96.34%\n",
      "(tensor(4828), 5000)\n",
      "训练周期: 7 [0/60000 (0%)]\tLoss: 0.162078\t训练正确率: 92.19%\t校验正确率: 96.56%\n",
      "(tensor(4824), 5000)\n",
      "训练周期: 7 [6400/60000 (11%)]\tLoss: 0.065859\t训练正确率: 96.63%\t校验正确率: 96.48%\n",
      "(tensor(4818), 5000)\n",
      "训练周期: 7 [12800/60000 (21%)]\tLoss: 0.038130\t训练正确率: 96.57%\t校验正确率: 96.36%\n",
      "(tensor(4830), 5000)\n",
      "训练周期: 7 [19200/60000 (32%)]\tLoss: 0.208614\t训练正确率: 96.57%\t校验正确率: 96.60%\n",
      "(tensor(4836), 5000)\n",
      "训练周期: 7 [25600/60000 (43%)]\tLoss: 0.068462\t训练正确率: 96.55%\t校验正确率: 96.72%\n",
      "(tensor(4824), 5000)\n",
      "训练周期: 7 [32000/60000 (53%)]\tLoss: 0.069000\t训练正确率: 96.46%\t校验正确率: 96.48%\n",
      "(tensor(4837), 5000)\n",
      "训练周期: 7 [38400/60000 (64%)]\tLoss: 0.241436\t训练正确率: 96.45%\t校验正确率: 96.74%\n",
      "(tensor(4828), 5000)\n",
      "训练周期: 7 [44800/60000 (75%)]\tLoss: 0.217378\t训练正确率: 96.44%\t校验正确率: 96.56%\n",
      "(tensor(4839), 5000)\n",
      "训练周期: 7 [51200/60000 (85%)]\tLoss: 0.082073\t训练正确率: 96.41%\t校验正确率: 96.78%\n",
      "(tensor(4838), 5000)\n",
      "训练周期: 7 [57600/60000 (96%)]\tLoss: 0.141620\t训练正确率: 96.39%\t校验正确率: 96.76%\n",
      "(tensor(4834), 5000)\n",
      "训练周期: 8 [0/60000 (0%)]\tLoss: 0.060658\t训练正确率: 100.00%\t校验正确率: 96.68%\n",
      "(tensor(4816), 5000)\n",
      "训练周期: 8 [6400/60000 (11%)]\tLoss: 0.242500\t训练正确率: 96.67%\t校验正确率: 96.32%\n",
      "(tensor(4814), 5000)\n",
      "训练周期: 8 [12800/60000 (21%)]\tLoss: 0.155421\t训练正确率: 96.65%\t校验正确率: 96.28%\n",
      "(tensor(4843), 5000)\n",
      "训练周期: 8 [19200/60000 (32%)]\tLoss: 0.186945\t训练正确率: 96.75%\t校验正确率: 96.86%\n",
      "(tensor(4837), 5000)\n",
      "训练周期: 8 [25600/60000 (43%)]\tLoss: 0.125803\t训练正确率: 96.82%\t校验正确率: 96.74%\n",
      "(tensor(4828), 5000)\n",
      "训练周期: 8 [32000/60000 (53%)]\tLoss: 0.130669\t训练正确率: 96.74%\t校验正确率: 96.56%\n",
      "(tensor(4823), 5000)\n",
      "训练周期: 8 [38400/60000 (64%)]\tLoss: 0.108958\t训练正确率: 96.67%\t校验正确率: 96.46%\n",
      "(tensor(4848), 5000)\n",
      "训练周期: 8 [44800/60000 (75%)]\tLoss: 0.125556\t训练正确率: 96.67%\t校验正确率: 96.96%\n",
      "(tensor(4851), 5000)\n",
      "训练周期: 8 [51200/60000 (85%)]\tLoss: 0.135916\t训练正确率: 96.68%\t校验正确率: 97.02%\n",
      "(tensor(4852), 5000)\n",
      "训练周期: 8 [57600/60000 (96%)]\tLoss: 0.049274\t训练正确率: 96.67%\t校验正确率: 97.04%\n"
     ]
    },
    {
     "name": "stdout",
     "output_type": "stream",
     "text": [
      "(tensor(4840), 5000)\n",
      "训练周期: 9 [0/60000 (0%)]\tLoss: 0.063718\t训练正确率: 98.44%\t校验正确率: 96.80%\n",
      "(tensor(4828), 5000)\n",
      "训练周期: 9 [6400/60000 (11%)]\tLoss: 0.161593\t训练正确率: 96.94%\t校验正确率: 96.56%\n",
      "(tensor(4842), 5000)\n",
      "训练周期: 9 [12800/60000 (21%)]\tLoss: 0.164728\t训练正确率: 96.81%\t校验正确率: 96.84%\n",
      "(tensor(4838), 5000)\n",
      "训练周期: 9 [19200/60000 (32%)]\tLoss: 0.061015\t训练正确率: 96.82%\t校验正确率: 96.76%\n",
      "(tensor(4841), 5000)\n",
      "训练周期: 9 [25600/60000 (43%)]\tLoss: 0.098048\t训练正确率: 96.84%\t校验正确率: 96.82%\n",
      "(tensor(4841), 5000)\n",
      "训练周期: 9 [32000/60000 (53%)]\tLoss: 0.122924\t训练正确率: 96.86%\t校验正确率: 96.82%\n",
      "(tensor(4843), 5000)\n",
      "训练周期: 9 [38400/60000 (64%)]\tLoss: 0.046544\t训练正确率: 96.75%\t校验正确率: 96.86%\n",
      "(tensor(4855), 5000)\n",
      "训练周期: 9 [44800/60000 (75%)]\tLoss: 0.139814\t训练正确率: 96.82%\t校验正确率: 97.10%\n",
      "(tensor(4831), 5000)\n",
      "训练周期: 9 [51200/60000 (85%)]\tLoss: 0.135254\t训练正确率: 96.83%\t校验正确率: 96.62%\n",
      "(tensor(4854), 5000)\n",
      "训练周期: 9 [57600/60000 (96%)]\tLoss: 0.022248\t训练正确率: 96.82%\t校验正确率: 97.08%\n",
      "(tensor(4855), 5000)\n",
      "训练周期: 10 [0/60000 (0%)]\tLoss: 0.077700\t训练正确率: 98.44%\t校验正确率: 97.10%\n",
      "(tensor(4852), 5000)\n",
      "训练周期: 10 [6400/60000 (11%)]\tLoss: 0.068872\t训练正确率: 96.69%\t校验正确率: 97.04%\n",
      "(tensor(4857), 5000)\n",
      "训练周期: 10 [12800/60000 (21%)]\tLoss: 0.133355\t训练正确率: 96.77%\t校验正确率: 97.14%\n",
      "(tensor(4845), 5000)\n",
      "训练周期: 10 [19200/60000 (32%)]\tLoss: 0.224629\t训练正确率: 96.69%\t校验正确率: 96.90%\n",
      "(tensor(4859), 5000)\n",
      "训练周期: 10 [25600/60000 (43%)]\tLoss: 0.153572\t训练正确率: 96.76%\t校验正确率: 97.18%\n",
      "(tensor(4850), 5000)\n",
      "训练周期: 10 [32000/60000 (53%)]\tLoss: 0.058212\t训练正确率: 96.84%\t校验正确率: 97.00%\n",
      "(tensor(4851), 5000)\n",
      "训练周期: 10 [38400/60000 (64%)]\tLoss: 0.055144\t训练正确率: 96.91%\t校验正确率: 97.02%\n",
      "(tensor(4856), 5000)\n",
      "训练周期: 10 [44800/60000 (75%)]\tLoss: 0.101022\t训练正确率: 96.91%\t校验正确率: 97.12%\n",
      "(tensor(4842), 5000)\n",
      "训练周期: 10 [51200/60000 (85%)]\tLoss: 0.238106\t训练正确率: 96.95%\t校验正确率: 96.84%\n",
      "(tensor(4863), 5000)\n",
      "训练周期: 10 [57600/60000 (96%)]\tLoss: 0.073391\t训练正确率: 96.98%\t校验正确率: 97.26%\n",
      "(tensor(4861), 5000)\n",
      "训练周期: 11 [0/60000 (0%)]\tLoss: 0.026009\t训练正确率: 100.00%\t校验正确率: 97.22%\n",
      "(tensor(4851), 5000)\n",
      "训练周期: 11 [6400/60000 (11%)]\tLoss: 0.091782\t训练正确率: 97.29%\t校验正确率: 97.02%\n",
      "(tensor(4849), 5000)\n",
      "训练周期: 11 [12800/60000 (21%)]\tLoss: 0.089646\t训练正确率: 97.20%\t校验正确率: 96.98%\n",
      "(tensor(4855), 5000)\n",
      "训练周期: 11 [19200/60000 (32%)]\tLoss: 0.042436\t训练正确率: 97.19%\t校验正确率: 97.10%\n",
      "(tensor(4860), 5000)\n",
      "训练周期: 11 [25600/60000 (43%)]\tLoss: 0.043934\t训练正确率: 97.28%\t校验正确率: 97.20%\n",
      "(tensor(4849), 5000)\n",
      "训练周期: 11 [32000/60000 (53%)]\tLoss: 0.064767\t训练正确率: 97.26%\t校验正确率: 96.98%\n",
      "(tensor(4852), 5000)\n",
      "训练周期: 11 [38400/60000 (64%)]\tLoss: 0.119311\t训练正确率: 97.22%\t校验正确率: 97.04%\n",
      "(tensor(4855), 5000)\n",
      "训练周期: 11 [44800/60000 (75%)]\tLoss: 0.114189\t训练正确率: 97.25%\t校验正确率: 97.10%\n",
      "(tensor(4867), 5000)\n",
      "训练周期: 11 [51200/60000 (85%)]\tLoss: 0.056583\t训练正确率: 97.28%\t校验正确率: 97.34%\n",
      "(tensor(4860), 5000)\n",
      "训练周期: 11 [57600/60000 (96%)]\tLoss: 0.025102\t训练正确率: 97.28%\t校验正确率: 97.20%\n",
      "(tensor(4869), 5000)\n",
      "训练周期: 12 [0/60000 (0%)]\tLoss: 0.068093\t训练正确率: 98.44%\t校验正确率: 97.38%\n",
      "(tensor(4853), 5000)\n",
      "训练周期: 12 [6400/60000 (11%)]\tLoss: 0.085411\t训练正确率: 97.31%\t校验正确率: 97.06%\n",
      "(tensor(4865), 5000)\n",
      "训练周期: 12 [12800/60000 (21%)]\tLoss: 0.066897\t训练正确率: 97.43%\t校验正确率: 97.30%\n",
      "(tensor(4863), 5000)\n",
      "训练周期: 12 [19200/60000 (32%)]\tLoss: 0.022938\t训练正确率: 97.40%\t校验正确率: 97.26%\n",
      "(tensor(4865), 5000)\n",
      "训练周期: 12 [25600/60000 (43%)]\tLoss: 0.076314\t训练正确率: 97.41%\t校验正确率: 97.30%\n",
      "(tensor(4870), 5000)\n",
      "训练周期: 12 [32000/60000 (53%)]\tLoss: 0.104436\t训练正确率: 97.41%\t校验正确率: 97.40%\n",
      "(tensor(4860), 5000)\n",
      "训练周期: 12 [38400/60000 (64%)]\tLoss: 0.170027\t训练正确率: 97.36%\t校验正确率: 97.20%\n",
      "(tensor(4867), 5000)\n",
      "训练周期: 12 [44800/60000 (75%)]\tLoss: 0.033025\t训练正确率: 97.37%\t校验正确率: 97.34%\n",
      "(tensor(4865), 5000)\n",
      "训练周期: 12 [51200/60000 (85%)]\tLoss: 0.164501\t训练正确率: 97.38%\t校验正确率: 97.30%\n",
      "(tensor(4865), 5000)\n",
      "训练周期: 12 [57600/60000 (96%)]\tLoss: 0.071728\t训练正确率: 97.32%\t校验正确率: 97.30%\n",
      "(tensor(4856), 5000)\n",
      "训练周期: 13 [0/60000 (0%)]\tLoss: 0.112805\t训练正确率: 96.88%\t校验正确率: 97.12%\n",
      "(tensor(4858), 5000)\n",
      "训练周期: 13 [6400/60000 (11%)]\tLoss: 0.225273\t训练正确率: 97.31%\t校验正确率: 97.16%\n",
      "(tensor(4859), 5000)\n",
      "训练周期: 13 [12800/60000 (21%)]\tLoss: 0.035839\t训练正确率: 97.37%\t校验正确率: 97.18%\n",
      "(tensor(4860), 5000)\n",
      "训练周期: 13 [19200/60000 (32%)]\tLoss: 0.153521\t训练正确率: 97.44%\t校验正确率: 97.20%\n",
      "(tensor(4872), 5000)\n",
      "训练周期: 13 [25600/60000 (43%)]\tLoss: 0.056304\t训练正确率: 97.37%\t校验正确率: 97.44%\n",
      "(tensor(4863), 5000)\n",
      "训练周期: 13 [32000/60000 (53%)]\tLoss: 0.038467\t训练正确率: 97.45%\t校验正确率: 97.26%\n",
      "(tensor(4858), 5000)\n",
      "训练周期: 13 [38400/60000 (64%)]\tLoss: 0.025227\t训练正确率: 97.50%\t校验正确率: 97.16%\n",
      "(tensor(4870), 5000)\n",
      "训练周期: 13 [44800/60000 (75%)]\tLoss: 0.058320\t训练正确率: 97.49%\t校验正确率: 97.40%\n",
      "(tensor(4865), 5000)\n",
      "训练周期: 13 [51200/60000 (85%)]\tLoss: 0.029042\t训练正确率: 97.48%\t校验正确率: 97.30%\n",
      "(tensor(4869), 5000)\n",
      "训练周期: 13 [57600/60000 (96%)]\tLoss: 0.019177\t训练正确率: 97.49%\t校验正确率: 97.38%\n",
      "(tensor(4869), 5000)\n",
      "训练周期: 14 [0/60000 (0%)]\tLoss: 0.045215\t训练正确率: 98.44%\t校验正确率: 97.38%\n",
      "(tensor(4875), 5000)\n",
      "训练周期: 14 [6400/60000 (11%)]\tLoss: 0.068086\t训练正确率: 97.60%\t校验正确率: 97.50%\n",
      "(tensor(4874), 5000)\n",
      "训练周期: 14 [12800/60000 (21%)]\tLoss: 0.272272\t训练正确率: 97.33%\t校验正确率: 97.48%\n",
      "(tensor(4872), 5000)\n",
      "训练周期: 14 [19200/60000 (32%)]\tLoss: 0.252685\t训练正确率: 97.36%\t校验正确率: 97.44%\n",
      "(tensor(4876), 5000)\n",
      "训练周期: 14 [25600/60000 (43%)]\tLoss: 0.151181\t训练正确率: 97.39%\t校验正确率: 97.52%\n",
      "(tensor(4881), 5000)\n",
      "训练周期: 14 [32000/60000 (53%)]\tLoss: 0.024056\t训练正确率: 97.42%\t校验正确率: 97.62%\n",
      "(tensor(4873), 5000)\n",
      "训练周期: 14 [38400/60000 (64%)]\tLoss: 0.030927\t训练正确率: 97.47%\t校验正确率: 97.46%\n",
      "(tensor(4878), 5000)\n",
      "训练周期: 14 [44800/60000 (75%)]\tLoss: 0.159819\t训练正确率: 97.42%\t校验正确率: 97.56%\n",
      "(tensor(4872), 5000)\n",
      "训练周期: 14 [51200/60000 (85%)]\tLoss: 0.032326\t训练正确率: 97.48%\t校验正确率: 97.44%\n",
      "(tensor(4872), 5000)\n",
      "训练周期: 14 [57600/60000 (96%)]\tLoss: 0.046240\t训练正确率: 97.50%\t校验正确率: 97.44%\n",
      "(tensor(4879), 5000)\n",
      "训练周期: 15 [0/60000 (0%)]\tLoss: 0.107900\t训练正确率: 95.31%\t校验正确率: 97.58%\n",
      "(tensor(4876), 5000)\n",
      "训练周期: 15 [6400/60000 (11%)]\tLoss: 0.094183\t训练正确率: 97.49%\t校验正确率: 97.52%\n",
      "(tensor(4870), 5000)\n",
      "训练周期: 15 [12800/60000 (21%)]\tLoss: 0.096324\t训练正确率: 97.58%\t校验正确率: 97.40%\n",
      "(tensor(4876), 5000)\n",
      "训练周期: 15 [19200/60000 (32%)]\tLoss: 0.029830\t训练正确率: 97.59%\t校验正确率: 97.52%\n",
      "(tensor(4886), 5000)\n",
      "训练周期: 15 [25600/60000 (43%)]\tLoss: 0.024070\t训练正确率: 97.68%\t校验正确率: 97.72%\n",
      "(tensor(4864), 5000)\n",
      "训练周期: 15 [32000/60000 (53%)]\tLoss: 0.035345\t训练正确率: 97.73%\t校验正确率: 97.28%\n",
      "(tensor(4860), 5000)\n",
      "训练周期: 15 [38400/60000 (64%)]\tLoss: 0.101997\t训练正确率: 97.73%\t校验正确率: 97.20%\n",
      "(tensor(4874), 5000)\n",
      "训练周期: 15 [44800/60000 (75%)]\tLoss: 0.083870\t训练正确率: 97.72%\t校验正确率: 97.48%\n",
      "(tensor(4883), 5000)\n",
      "训练周期: 15 [51200/60000 (85%)]\tLoss: 0.079515\t训练正确率: 97.75%\t校验正确率: 97.66%\n",
      "(tensor(4866), 5000)\n",
      "训练周期: 15 [57600/60000 (96%)]\tLoss: 0.050652\t训练正确率: 97.74%\t校验正确率: 97.32%\n",
      "(tensor(4877), 5000)\n",
      "训练周期: 16 [0/60000 (0%)]\tLoss: 0.037787\t训练正确率: 96.88%\t校验正确率: 97.54%\n",
      "(tensor(4880), 5000)\n",
      "训练周期: 16 [6400/60000 (11%)]\tLoss: 0.031265\t训练正确率: 97.62%\t校验正确率: 97.60%\n",
      "(tensor(4881), 5000)\n",
      "训练周期: 16 [12800/60000 (21%)]\tLoss: 0.139934\t训练正确率: 97.50%\t校验正确率: 97.62%\n",
      "(tensor(4881), 5000)\n",
      "训练周期: 16 [19200/60000 (32%)]\tLoss: 0.213789\t训练正确率: 97.54%\t校验正确率: 97.62%\n",
      "(tensor(4880), 5000)\n",
      "训练周期: 16 [25600/60000 (43%)]\tLoss: 0.125005\t训练正确率: 97.46%\t校验正确率: 97.60%\n",
      "(tensor(4882), 5000)\n",
      "训练周期: 16 [32000/60000 (53%)]\tLoss: 0.059994\t训练正确率: 97.50%\t校验正确率: 97.64%\n",
      "(tensor(4865), 5000)\n",
      "训练周期: 16 [38400/60000 (64%)]\tLoss: 0.006466\t训练正确率: 97.48%\t校验正确率: 97.30%\n",
      "(tensor(4888), 5000)\n",
      "训练周期: 16 [44800/60000 (75%)]\tLoss: 0.053510\t训练正确率: 97.46%\t校验正确率: 97.76%\n",
      "(tensor(4883), 5000)\n",
      "训练周期: 16 [51200/60000 (85%)]\tLoss: 0.022249\t训练正确率: 97.53%\t校验正确率: 97.66%\n",
      "(tensor(4879), 5000)\n",
      "训练周期: 16 [57600/60000 (96%)]\tLoss: 0.032742\t训练正确率: 97.59%\t校验正确率: 97.58%\n",
      "(tensor(4874), 5000)\n",
      "训练周期: 17 [0/60000 (0%)]\tLoss: 0.031600\t训练正确率: 98.44%\t校验正确率: 97.48%\n",
      "(tensor(4877), 5000)\n",
      "训练周期: 17 [6400/60000 (11%)]\tLoss: 0.019522\t训练正确率: 97.85%\t校验正确率: 97.54%\n",
      "(tensor(4873), 5000)\n",
      "训练周期: 17 [12800/60000 (21%)]\tLoss: 0.065321\t训练正确率: 97.89%\t校验正确率: 97.46%\n",
      "(tensor(4878), 5000)\n",
      "训练周期: 17 [19200/60000 (32%)]\tLoss: 0.084533\t训练正确率: 97.79%\t校验正确率: 97.56%\n",
      "(tensor(4880), 5000)\n",
      "训练周期: 17 [25600/60000 (43%)]\tLoss: 0.083396\t训练正确率: 97.81%\t校验正确率: 97.60%\n",
      "(tensor(4878), 5000)\n",
      "训练周期: 17 [32000/60000 (53%)]\tLoss: 0.090495\t训练正确率: 97.80%\t校验正确率: 97.56%\n",
      "(tensor(4883), 5000)\n",
      "训练周期: 17 [38400/60000 (64%)]\tLoss: 0.013554\t训练正确率: 97.87%\t校验正确率: 97.66%\n",
      "(tensor(4881), 5000)\n",
      "训练周期: 17 [44800/60000 (75%)]\tLoss: 0.014910\t训练正确率: 97.84%\t校验正确率: 97.62%\n",
      "(tensor(4886), 5000)\n",
      "训练周期: 17 [51200/60000 (85%)]\tLoss: 0.022583\t训练正确率: 97.77%\t校验正确率: 97.72%\n"
     ]
    },
    {
     "name": "stdout",
     "output_type": "stream",
     "text": [
      "(tensor(4888), 5000)\n",
      "训练周期: 17 [57600/60000 (96%)]\tLoss: 0.098493\t训练正确率: 97.77%\t校验正确率: 97.76%\n",
      "(tensor(4885), 5000)\n",
      "训练周期: 18 [0/60000 (0%)]\tLoss: 0.015944\t训练正确率: 100.00%\t校验正确率: 97.70%\n",
      "(tensor(4885), 5000)\n",
      "训练周期: 18 [6400/60000 (11%)]\tLoss: 0.041918\t训练正确率: 97.68%\t校验正确率: 97.70%\n",
      "(tensor(4873), 5000)\n",
      "训练周期: 18 [12800/60000 (21%)]\tLoss: 0.069985\t训练正确率: 97.72%\t校验正确率: 97.46%\n",
      "(tensor(4893), 5000)\n",
      "训练周期: 18 [19200/60000 (32%)]\tLoss: 0.032491\t训练正确率: 97.74%\t校验正确率: 97.86%\n",
      "(tensor(4887), 5000)\n",
      "训练周期: 18 [25600/60000 (43%)]\tLoss: 0.023949\t训练正确率: 97.81%\t校验正确率: 97.74%\n",
      "(tensor(4883), 5000)\n",
      "训练周期: 18 [32000/60000 (53%)]\tLoss: 0.039218\t训练正确率: 97.79%\t校验正确率: 97.66%\n",
      "(tensor(4890), 5000)\n",
      "训练周期: 18 [38400/60000 (64%)]\tLoss: 0.024960\t训练正确率: 97.81%\t校验正确率: 97.80%\n",
      "(tensor(4885), 5000)\n",
      "训练周期: 18 [44800/60000 (75%)]\tLoss: 0.008556\t训练正确率: 97.82%\t校验正确率: 97.70%\n",
      "(tensor(4890), 5000)\n",
      "训练周期: 18 [51200/60000 (85%)]\tLoss: 0.053590\t训练正确率: 97.83%\t校验正确率: 97.80%\n",
      "(tensor(4882), 5000)\n",
      "训练周期: 18 [57600/60000 (96%)]\tLoss: 0.045204\t训练正确率: 97.79%\t校验正确率: 97.64%\n",
      "(tensor(4890), 5000)\n",
      "训练周期: 19 [0/60000 (0%)]\tLoss: 0.018120\t训练正确率: 100.00%\t校验正确率: 97.80%\n",
      "(tensor(4881), 5000)\n",
      "训练周期: 19 [6400/60000 (11%)]\tLoss: 0.046664\t训练正确率: 97.96%\t校验正确率: 97.62%\n",
      "(tensor(4880), 5000)\n",
      "训练周期: 19 [12800/60000 (21%)]\tLoss: 0.024947\t训练正确率: 97.97%\t校验正确率: 97.60%\n",
      "(tensor(4897), 5000)\n",
      "训练周期: 19 [19200/60000 (32%)]\tLoss: 0.054679\t训练正确率: 98.00%\t校验正确率: 97.94%\n",
      "(tensor(4886), 5000)\n",
      "训练周期: 19 [25600/60000 (43%)]\tLoss: 0.063719\t训练正确率: 97.99%\t校验正确率: 97.72%\n",
      "(tensor(4893), 5000)\n",
      "训练周期: 19 [32000/60000 (53%)]\tLoss: 0.039169\t训练正确率: 97.95%\t校验正确率: 97.86%\n",
      "(tensor(4878), 5000)\n",
      "训练周期: 19 [38400/60000 (64%)]\tLoss: 0.117100\t训练正确率: 97.94%\t校验正确率: 97.56%\n",
      "(tensor(4877), 5000)\n",
      "训练周期: 19 [44800/60000 (75%)]\tLoss: 0.096168\t训练正确率: 97.97%\t校验正确率: 97.54%\n",
      "(tensor(4884), 5000)\n",
      "训练周期: 19 [51200/60000 (85%)]\tLoss: 0.030233\t训练正确率: 98.01%\t校验正确率: 97.68%\n",
      "(tensor(4881), 5000)\n",
      "训练周期: 19 [57600/60000 (96%)]\tLoss: 0.025630\t训练正确率: 98.00%\t校验正确率: 97.62%\n"
     ]
    }
   ],
   "source": [
    "net = ConvNet() #新建一个卷积神经网络的实例，此时ConvNet的__init__函数就会被自动调用\n",
    "\n",
    "criterion = nn.CrossEntropyLoss() #Loss函数的定义，交叉熵\n",
    "optimizer = optim.SGD(net.parameters(), lr=0.001, momentum=0.9) #定义优化器，普通的随机梯度下降算法\n",
    "\n",
    "record = [] #记录准确率等数值的容器\n",
    "weights = [] #每若干步就记录一次卷积核\n",
    "\n",
    "#开始训练循环\n",
    "for epoch in range(num_epochs):\n",
    "    \n",
    "    train_rights = [] #记录训练数据集准确率的容器\n",
    "    \n",
    "    ''' 下面的enumerate是构造一个枚举器的作用。就是我们在对train_loader做循环迭代的时候，enumerate会自动吐出一个数字指示我们循环了几次\n",
    "     这个数字就被记录在了batch_idx之中，它就等于0，1，2，……\n",
    "     train_loader每迭代一次，就会吐出来一对数据data和target，分别对应着一个batch中的手写数字图，以及对应的标签。'''\n",
    "    \n",
    "    for batch_idx, (data, target) in enumerate(train_loader):  #针对容器中的每一个批进行循环\n",
    "        data, target = data.clone().requires_grad_(True), target.clone().detach()  #data为一批图像，target为一批标签\n",
    "        net.train() # 给网络模型做标记，标志说模型正在训练集上训练，\n",
    "                    #这种区分主要是为了打开关闭net的training标志，从而决定是否运行dropout\n",
    "            \n",
    "        output = net(data) #神经网络完成一次前馈的计算过程，得到预测输出output\n",
    "        loss = criterion(output, target) #将output与标签target比较，计算误差\n",
    "        optimizer.zero_grad() #清空梯度\n",
    "        loss.backward() #反向传播\n",
    "        optimizer.step() #一步随机梯度下降算法\n",
    "        right = rightness(output, target) #计算准确率所需数值，返回数值为（正确样例数，总样本数）\n",
    "        train_rights.append(right) #将计算结果装到列表容器train_rights中\n",
    "\n",
    "    \n",
    "        if batch_idx % 100 == 0: #每间隔100个batch执行一次打印等操作\n",
    "            \n",
    "            net.eval() # 给网络模型做标记，标志说模型在训练集上训练\n",
    "            val_rights = [] #记录校验数据集准确率的容器\n",
    "            \n",
    "            '''开始在校验数据集上做循环，计算校验集上面的准确度'''\n",
    "            for (data, target) in validation_loader:\n",
    "                data, target = data.clone().requires_grad_(True), target.clone().detach()\n",
    "                output = net(data) #完成一次前馈计算过程，得到目前训练得到的模型net在校验数据集上的表现\n",
    "                right = rightness(output, target) #计算准确率所需数值，返回正确的数值为（正确样例数，总样本数）\n",
    "                val_rights.append(right)\n",
    "            \n",
    "            # 分别计算在目前已经计算过的测试数据集，以及全部校验集上模型的表现：分类准确率\n",
    "            #train_r为一个二元组，分别记录目前已经经历过的所有训练集中分类正确的数量和该集合中总的样本数，\n",
    "            #train_r[0]/train_r[1]就是训练集的分类准确度，同样，val_r[0]/val_r[1]就是校验集上的分类准确度\n",
    "            train_r = (sum([tup[0] for tup in train_rights]), sum([tup[1] for tup in train_rights]))\n",
    "            #val_r为一个二元组，分别记录校验集中分类正确的数量和该集合中总的样本数\n",
    "            val_r = (sum([tup[0] for tup in val_rights]), sum([tup[1] for tup in val_rights]))\n",
    "            #打印准确率等数值，其中正确率为本训练周期Epoch开始后到目前撮的正确率的平均值\n",
    "            print(val_r)\n",
    "            print('训练周期: {} [{}/{} ({:.0f}%)]\\tLoss: {:.6f}\\t训练正确率: {:.2f}%\\t校验正确率: {:.2f}%'.format(\n",
    "                epoch, batch_idx * batch_size, len(train_loader.dataset),\n",
    "                100. * batch_idx / len(train_loader), \n",
    "                loss.data, \n",
    "                100. * train_r[0].numpy() / train_r[1], \n",
    "                100. * val_r[0].numpy() / val_r[1]))\n",
    "            \n",
    "            #将准确率和权重等数值加载到容器中，以方便后续处理\n",
    "            record.append((100 - 100. * train_r[0] / train_r[1], 100 - 100. * val_r[0] / val_r[1]))\n",
    "            \n",
    "            # weights记录了训练周期中所有卷积核的演化过程。net.conv1.weight就提取出了第一层卷积核的权重\n",
    "            # clone的意思就是将weight.data中的数据做一个拷贝放到列表中，否则当weight.data变化的时候，列表中的每一项数值也会联动\n",
    "            '''这里使用clone这个函数很重要'''\n",
    "            weights.append([net.conv1.weight.data.clone(), net.conv1.bias.data.clone(), \n",
    "                            net.conv2.weight.data.clone(), net.conv2.bias.data.clone()])\n",
    "            "
   ]
  },
  {
   "cell_type": "code",
   "execution_count": 8,
   "metadata": {},
   "outputs": [
    {
     "data": {
      "text/plain": [
       "Text(0, 0.5, 'Error rate')"
      ]
     },
     "execution_count": 8,
     "metadata": {},
     "output_type": "execute_result"
    },
    {
     "data": {
      "image/png": "[encoded data removed]",
      "text/plain": [
       "<Figure size 1000x700 with 1 Axes>"
      ]
     },
     "metadata": {},
     "output_type": "display_data"
    }
   ],
   "source": [
    "#绘制训练过程的误差曲线，校验集和测试集上的错误率。\n",
    "plt.figure(figsize = (10, 7))\n",
    "plt.plot(record) #record记载了每一个打印周期记录的训练和校验数据集上的准确度\n",
    "plt.xlabel('Steps')\n",
    "plt.ylabel('Error rate')"
   ]
  },
  {
   "cell_type": "markdown",
   "metadata": {},
   "source": [
    "### 2.3 在测试集上进行分类"
   ]
  },
  {
   "cell_type": "code",
   "execution_count": 9,
   "metadata": {},
   "outputs": [
    {
     "name": "stdout",
     "output_type": "stream",
     "text": [
      "99.22\n"
     ]
    }
   ],
   "source": [
    "#在测试集上分批运行，并计算总的正确率\n",
    "net.eval() #标志模型当前为运行阶段\n",
    "vals = [] #记录准确率所用列表\n",
    "\n",
    "#对测试数据集进行循环\n",
    "for data, target in test_loader:\n",
    "    data, target = data.clone().detach().requires_grad_(True), target.clone().detach()\n",
    "    output = net(data) #将特征数据喂入网络，得到分类的输出\n",
    "    val = rightness(output, target) #获得正确样本数以及总样本数\n",
    "    vals.append(val) #记录结果\n",
    "\n",
    "#计算准确率\n",
    "rights = (sum([tup[0] for tup in vals]), sum([tup[1] for tup in vals]))\n",
    "right_rate = 100. * rights[0].numpy() / rights[1]\n",
    "print(right_rate)"
   ]
  },
  {
   "cell_type": "code",
   "execution_count": 10,
   "metadata": {},
   "outputs": [
    {
     "name": "stdout",
     "output_type": "stream",
     "text": [
      "标签是： 9\n"
     ]
    },
    {
     "data": {
      "image/png": "[encoded data removed]",
      "text/plain": [
       "<Figure size 640x480 with 1 Axes>"
      ]
     },
     "metadata": {},
     "output_type": "display_data"
    }
   ],
   "source": [
    "#随便从测试集中读入一张图片，并检验模型的分类结果，并绘制出来\n",
    "idx = 4000\n",
    "muteimg = test_dataset[idx][0].numpy()\n",
    "plt.imshow(muteimg[0,...])\n",
    "print('标签是：',test_dataset[idx][1])\n"
   ]
  },
  {
   "cell_type": "markdown",
   "metadata": {},
   "source": [
    "## 三、解剖卷积神经网络"
   ]
  },
  {
   "cell_type": "markdown",
   "metadata": {},
   "source": [
    "我们可以将训练好的卷积神经网络net进行解剖。我们主要关注一下几个问题：\n",
    "1. 第一层卷积核训练得到了什么；\n",
    "2. 第一层卷积核是如何在训练的过程中随着时间的演化而发生变化\n",
    "3. 在输入特定图像的时候，第一层卷积核所对应的4个featuremap是什么样子\n",
    "4. 第二层卷积核都是什么东西？\n",
    "5. 对于给定输入图像，第二层卷积核所对应的那些featuremaps都是什么样？"
   ]
  },
  {
   "cell_type": "markdown",
   "metadata": {},
   "source": [
    "### 3.1 第一层卷积核、演化与特征图"
   ]
  },
  {
   "cell_type": "markdown",
   "metadata": {},
   "source": [
    "#### 第一层卷积核"
   ]
  },
  {
   "cell_type": "code",
   "execution_count": 11,
   "metadata": {},
   "outputs": [
    {
     "data": {
      "image/png": "[encoded data removed]",
      "text/plain": [
       "<Figure size 1000x700 with 4 Axes>"
      ]
     },
     "metadata": {},
     "output_type": "display_data"
    }
   ],
   "source": [
    "#提取第一层卷积层的卷积核\n",
    "plt.figure(figsize = (10, 7))\n",
    "for i in range(4):\n",
    "    plt.subplot(1,4,i + 1)\n",
    "    plt.axis('off')\n",
    "    plt.imshow(net.conv1.weight.data.numpy()[i,0,...]) #提取第一层卷积核中的权重值，注意conv1是net的属性"
   ]
  },
  {
   "cell_type": "markdown",
   "metadata": {},
   "source": [
    "#### 滤波器的演化（滤波器就是卷积核）"
   ]
  },
  {
   "cell_type": "code",
   "execution_count": 13,
   "metadata": {},
   "outputs": [
    {
     "data": {
      "image/png": "[encoded data removed]",
      "text/plain": [
       "<Figure size 1000x700 with 4 Axes>"
      ]
     },
     "metadata": {},
     "output_type": "display_data"
    },
    {
     "data": {
      "image/png": "[encoded data removed]",
      "text/plain": [
       "<Figure size 1000x700 with 4 Axes>"
      ]
     },
     "metadata": {},
     "output_type": "display_data"
    },
    {
     "data": {
      "image/png": "[encoded data removed]",
      "text/plain": [
       "<Figure size 1000x700 with 4 Axes>"
      ]
     },
     "metadata": {},
     "output_type": "display_data"
    },
    {
     "data": {
      "image/png": "[encoded data removed]",
      "text/plain": [
       "<Figure size 1000x700 with 4 Axes>"
      ]
     },
     "metadata": {},
     "output_type": "display_data"
    },
    {
     "data": {
      "image/png": "[encoded data removed]",
      "text/plain": [
       "<Figure size 1000x700 with 4 Axes>"
      ]
     },
     "metadata": {},
     "output_type": "display_data"
    },
    {
     "data": {
      "image/png": "[encoded data removed]",
      "text/plain": [
       "<Figure size 1000x700 with 4 Axes>"
      ]
     },
     "metadata": {},
     "output_type": "display_data"
    },
    {
     "data": {
      "image/png": "[encoded data removed]",
      "text/plain": [
       "<Figure size 1000x700 with 4 Axes>"
      ]
     },
     "metadata": {},
     "output_type": "display_data"
    },
    {
     "data": {
      "image/png": "[encoded data removed]",
      "text/plain": [
       "<Figure size 1000x700 with 4 Axes>"
      ]
     },
     "metadata": {},
     "output_type": "display_data"
    },
    {
     "data": {
      "image/png": "[encoded data removed]",
      "text/plain": [
       "<Figure size 1000x700 with 4 Axes>"
      ]
     },
     "metadata": {},
     "output_type": "display_data"
    },
    {
     "data": {
      "image/png": "[encoded data removed]",
      "text/plain": [
       "<Figure size 1000x700 with 4 Axes>"
      ]
     },
     "metadata": {},
     "output_type": "display_data"
    },
    {
     "data": {
      "image/png": "[encoded data removed]",
      "text/plain": [
       "<Figure size 1000x700 with 4 Axes>"
      ]
     },
     "metadata": {},
     "output_type": "display_data"
    },
    {
     "data": {
      "image/png": "[encoded data removed]",
      "text/plain": [
       "<Figure size 1000x700 with 4 Axes>"
      ]
     },
     "metadata": {},
     "output_type": "display_data"
    },
    {
     "data": {
      "image/png": "[encoded data removed]",
      "text/plain": [
       "<Figure size 1000x700 with 4 Axes>"
      ]
     },
     "metadata": {},
     "output_type": "display_data"
    },
    {
     "data": {
      "image/png": "[encoded data removed]",
      "text/plain": [
       "<Figure size 1000x700 with 4 Axes>"
      ]
     },
     "metadata": {},
     "output_type": "display_data"
    },
    {
     "data": {
      "image/png": "[encoded data removed]",
      "text/plain": [
       "<Figure size 1000x700 with 4 Axes>"
      ]
     },
     "metadata": {},
     "output_type": "display_data"
    },
    {
     "data": {
      "image/png": "[encoded data removed]",
      "text/plain": [
       "<Figure size 1000x700 with 4 Axes>"
      ]
     },
     "metadata": {},
     "output_type": "display_data"
    },
    {
     "data": {
      "image/png": "[encoded data removed]",
      "text/plain": [
       "<Figure size 1000x700 with 4 Axes>"
      ]
     },
     "metadata": {},
     "output_type": "display_data"
    },
    {
     "data": {
      "image/png": "[encoded data removed]",
      "text/plain": [
       "<Figure size 1000x700 with 4 Axes>"
      ]
     },
     "metadata": {},
     "output_type": "display_data"
    },
    {
     "data": {
      "image/png": "[encoded data removed]",
      "text/plain": [
       "<Figure size 1000x700 with 4 Axes>"
      ]
     },
     "metadata": {},
     "output_type": "display_data"
    },
    {
     "data": {
      "image/png": "[encoded data removed]",
      "text/plain": [
       "<Figure size 1000x700 with 4 Axes>"
      ]
     },
     "metadata": {},
     "output_type": "display_data"
    }
   ],
   "source": [
    "# 将记录在容器中的卷积核权重历史演化数据打印出来\n",
    "i = 0\n",
    "for tup in weights:\n",
    "    if i % 10 == 0 :\n",
    "        layer1 = tup[0]\n",
    "        fig = plt.figure(figsize = (10, 7))\n",
    "        for j in range(4):\n",
    "            plt.subplot(1, 4, j + 1)\n",
    "            plt.axis('off')\n",
    "            plt.imshow(layer1.numpy()[j,0,...])\n",
    "    i += 1\n"
   ]
  },
  {
   "cell_type": "markdown",
   "metadata": {},
   "source": [
    "#### 绘制第一层特征图"
   ]
  },
  {
   "cell_type": "code",
   "execution_count": 14,
   "metadata": {},
   "outputs": [
    {
     "data": {
      "image/png": "[encoded data removed]",
      "text/plain": [
       "<Figure size 1000x700 with 4 Axes>"
      ]
     },
     "metadata": {},
     "output_type": "display_data"
    }
   ],
   "source": [
    "#调用net的retrieve_features方法可以抽取出喂入当前数据后吐出来的所有特征图（第一个卷积和第二个卷积层）\n",
    "\n",
    "#首先定义读入的图片\n",
    "\n",
    "#它是从test_dataset中提取第idx个批次的第0个图，其次unsqueeze的作用是在最前面添加一维，\n",
    "#目的是为了让这个input_x的tensor是四维的，这样才能输入给net。补充的那一维表示batch。\n",
    "input_x = test_dataset[idx][0].unsqueeze(0) \n",
    "feature_maps = net.retrieve_features(input_x) #feature_maps是有两个元素的列表，分别表示第一层和第二层卷积的所有特征图\n",
    "\n",
    "plt.figure(figsize = (10, 7))\n",
    "\n",
    "#有四个特征图，循环把它们打印出来\n",
    "for i in range(4):\n",
    "    plt.subplot(1,4,i + 1)\n",
    "    plt.axis('off')\n",
    "    plt.imshow(feature_maps[0][0, i,...].data.numpy())\n",
    "    "
   ]
  },
  {
   "cell_type": "markdown",
   "metadata": {},
   "source": [
    "### 3.2 绘制第二层卷积核与特征图"
   ]
  },
  {
   "cell_type": "code",
   "execution_count": 15,
   "metadata": {},
   "outputs": [
    {
     "data": {
      "image/png": "[encoded data removed]",
      "text/plain": [
       "<Figure size 1500x1000 with 32 Axes>"
      ]
     },
     "metadata": {},
     "output_type": "display_data"
    }
   ],
   "source": [
    "# 绘制第二层的卷积核，每一列对应一个卷积核，一共8个卷积核\n",
    "plt.figure(figsize = (15, 10))\n",
    "for i in range(4):\n",
    "    for j in range(8):\n",
    "        plt.subplot(4, 8, i * 8 + j + 1)\n",
    "        plt.axis('off')\n",
    "        plt.imshow(net.conv2.weight.data.numpy()[j, i,...])\n",
    "        "
   ]
  },
  {
   "cell_type": "code",
   "execution_count": 16,
   "metadata": {},
   "outputs": [
    {
     "data": {
      "image/png": "[encoded data removed]",
      "text/plain": [
       "<Figure size 1000x700 with 8 Axes>"
      ]
     },
     "metadata": {},
     "output_type": "display_data"
    }
   ],
   "source": [
    "# 绘制第二层的特征图，一共八个\n",
    "plt.figure(figsize = (10, 7))\n",
    "for i in range(8):\n",
    "    plt.subplot(2,4,i + 1)\n",
    "    plt.axis('off')\n",
    "    plt.imshow(feature_maps[1][0, i,...].data.numpy())\n",
    "    "
   ]
  },
  {
   "cell_type": "markdown",
   "metadata": {},
   "source": [
    "从图中可以看出，图像的抽象程度更高了。由于池化的作用，一些多余的图像信息被丢弃了，这也证明了多层卷积神经网络的抽象提取能力。"
   ]
  },
  {
   "cell_type": "markdown",
   "metadata": {},
   "source": [
    "## 用自己的dataloader版本的卷积神经网络\n",
    "\n",
    "如果不喜欢用PyTorch自带的dataset，dataloader等加载数据，可以用下面的代码来完成卷积神经网络的计算"
   ]
  },
  {
   "cell_type": "code",
   "execution_count": 20,
   "metadata": {},
   "outputs": [],
   "source": [
    "import gzip\n",
    "import os\n",
    "import sys\n",
    "\n",
    "from six.moves import urllib\n",
    "\n",
    "#定义一系列常数\n",
    "SOURCE_URL = 'http://yann.lecun.com/exdb/mnist/' #图像数据如果没下载，可以从这个地址下载\n",
    "WORK_DIRECTORY = 'data' #存储的路径名\n",
    "IMAGE_SIZE = 28 #每张图片的大小尺寸\n",
    "NUM_CHANNELS = 1  #每张图片的通道数\n",
    "PIXEL_DEPTH = 255 #像素的深度0-255\n",
    "NUM_LABELS = 10 #手写数字，一共十种\n",
    "VALIDATION_SIZE = 5000 #校验数据集大小\n",
    "NUM_EPOCHS = 20 # 训练的循环周期\n",
    "BATCH_SIZE = 64 #batch的大小\n",
    "EVAL_FREQUENCY = 100 #每隔100个batch进行一次校验集计算\n",
    "\n",
    "%matplotlib inline"
   ]
  },
  {
   "cell_type": "code",
   "execution_count": 21,
   "metadata": {},
   "outputs": [],
   "source": [
    "#下载图像文件，如果文件已经存在，那么就不下载。\n",
    "def maybe_download(filename):\n",
    "    \"\"\"Download the data from Yann's website, unless it's already here.\"\"\"\n",
    "    if not os.path.isdir(WORK_DIRECTORY):\n",
    "        os.mkdir(WORK_DIRECTORY)\n",
    "    filepath = os.path.join(WORK_DIRECTORY, filename)\n",
    "    if not os.path.exists(filepath):\n",
    "        filepath, _ = urllib.request.urlretrieve(SOURCE_URL + filename, filepath)\n",
    "        size = os.path.getsize(filepath)\n",
    "        print('Successfully downloaded', filename, size, 'bytes.')\n",
    "    return filepath\n",
    "# Get the data.\n",
    "train_data_filename = maybe_download('train-images-idx3-ubyte.gz')\n",
    "train_labels_filename = maybe_download('train-labels-idx1-ubyte.gz')\n",
    "test_data_filename = maybe_download('t10k-images-idx3-ubyte.gz')\n",
    "test_labels_filename = maybe_download('t10k-labels-idx1-ubyte.gz')"
   ]
  },
  {
   "cell_type": "code",
   "execution_count": 22,
   "metadata": {},
   "outputs": [
    {
     "name": "stdout",
     "output_type": "stream",
     "text": [
      "Extracting data\\train-images-idx3-ubyte.gz\n",
      "Extracting data\\train-labels-idx1-ubyte.gz\n",
      "Extracting data\\t10k-images-idx3-ubyte.gz\n",
      "Extracting data\\t10k-labels-idx1-ubyte.gz\n"
     ]
    }
   ],
   "source": [
    "def extract_data(filename, num_images):\n",
    "    # filename: 文件存放的路径，num_images: 读入的图片个数\n",
    "    \"\"\"将图像解压缩展开，读入成一个4维的张量： [image index（图像的编码）, y（纵坐标）, x（横坐标）, channels（通道）].\n",
    "    我们将数组中的数值范围从原来的[0, 255]降低到了[-0.5, 0.5]范围内\n",
    "    \"\"\"\n",
    "    print('Extracting', filename)\n",
    "    with gzip.open(filename) as bytestream:\n",
    "        bytestream.read(16)\n",
    "        buf = bytestream.read(IMAGE_SIZE * IMAGE_SIZE * num_images * NUM_CHANNELS)\n",
    "        data = np.frombuffer(buf, dtype=np.uint8).astype(np.float32)\n",
    "        data = (data - (PIXEL_DEPTH / 2.0)) / PIXEL_DEPTH\n",
    "        data = data.reshape(num_images, NUM_CHANNELS, IMAGE_SIZE, IMAGE_SIZE)\n",
    "        return data\n",
    "\n",
    "def extract_labels(filename, num_images):\n",
    "    \"\"\"将label的数据文件解压缩，并将label读成64位的整数\"\"\"\n",
    "    print('Extracting', filename)\n",
    "    with gzip.open(filename) as bytestream:\n",
    "        bytestream.read(8)\n",
    "        buf = bytestream.read(1 * num_images)\n",
    "        labels = np.frombuffer(buf, dtype=np.uint8).astype(np.int64)\n",
    "    return labels\n",
    "\n",
    "# 将数据解压缩并存储到数组中，60000张图片，60000个label，测试集中有10000张图片\n",
    "train_data = extract_data(train_data_filename, 60000)\n",
    "train_labels = extract_labels(train_labels_filename, 60000)\n",
    "test_data = extract_data(test_data_filename, 10000)\n",
    "test_labels = extract_labels(test_labels_filename, 10000)\n",
    "\n",
    "# 将一部分图片（VALIDATION_SIZE=5000张）定为校验数据集\n",
    "validation_data = train_data[:VALIDATION_SIZE, ...]\n",
    "validation_labels = train_labels[:VALIDATION_SIZE]\n",
    "train_data = train_data[VALIDATION_SIZE:, ...]\n",
    "train_labels = train_labels[VALIDATION_SIZE:]\n",
    "num_epochs = NUM_EPOCHS"
   ]
  },
  {
   "cell_type": "code",
   "execution_count": 23,
   "metadata": {},
   "outputs": [],
   "source": [
    "# 定义关键函数\n",
    "# 我们在训练中用了一个Tensorflow图，在评价的过程中，我们拷贝了这个图\n",
    "def error_rate(predictions, labels):\n",
    "    \"\"\"计算预测错误率的函数，其中predictions是模型给出的一组预测结果，labels是数据之中的正确答案\"\"\"\n",
    "    predictions = np.argmax(predictions, 1)\n",
    "    return 100.0 - (\n",
    "      100.0 *\n",
    "      np.sum( predictions == labels) /\n",
    "      predictions.shape[0])\n",
    "\n",
    "def eval_in_batches(data, net):\n",
    "    \"\"\"计算得到预测精度，运行对所有的数据集中的小撮数据进行.\"\"\"\n",
    "    size = data.shape[0]\n",
    "    if size < BATCH_SIZE:\n",
    "        raise ValueError(\"batch size for evals larger than dataset: %d\" % size)\n",
    "    predictions = np.ndarray(shape=(size, NUM_LABELS), dtype=np.float32)\n",
    "    \n",
    "    #一个小撮一个小撮地进行预测的计算\n",
    "    for begin in range(0, size, BATCH_SIZE):\n",
    "        end = begin + BATCH_SIZE\n",
    "        if end <= size:\n",
    "            inputs = data[begin:end]\n",
    "            inputs = torch.from_numpy(inputs)\n",
    "            inputs = inputs.clone().detach().requires_grad_(True)\n",
    "            outputs = net(inputs)\n",
    "            predictions[begin:end, :] = outputs.data.numpy()\n",
    "        else:\n",
    "            inputs = data[-BATCH_SIZE:]\n",
    "            inputs = torch.from_numpy(inputs)\n",
    "            inputs = inputs.clone().detach().requires_grad_(True)\n",
    "            outputs = net(inputs)\n",
    "            \n",
    "            batch_predictions = outputs.data.numpy()\n",
    "            predictions[begin:, :] = batch_predictions[begin - size:, :]\n",
    "    return predictions"
   ]
  },
  {
   "cell_type": "code",
   "execution_count": 24,
   "metadata": {
    "scrolled": true
   },
   "outputs": [
    {
     "name": "stdout",
     "output_type": "stream",
     "text": [
      "Initialized!\n",
      "17187\n",
      "第 0 (epoch 0.00) 步\n",
      "训练测试率: 92.2%\n",
      "校验集测试率: 91.6%\n",
      "第 100 (epoch 0.12) 步\n",
      "训练测试率: 90.6%\n",
      "校验集测试率: 87.9%\n",
      "第 200 (epoch 0.23) 步\n",
      "训练测试率: 84.4%\n",
      "校验集测试率: 82.8%\n",
      "第 300 (epoch 0.35) 步\n",
      "训练测试率: 78.1%\n",
      "校验集测试率: 77.7%\n",
      "第 400 (epoch 0.47) 步\n",
      "训练测试率: 73.4%\n",
      "校验集测试率: 71.0%\n",
      "第 500 (epoch 0.58) 步\n",
      "训练测试率: 57.8%\n",
      "校验集测试率: 63.9%\n",
      "第 600 (epoch 0.70) 步\n",
      "训练测试率: 54.7%\n",
      "校验集测试率: 58.0%\n",
      "第 700 (epoch 0.81) 步\n",
      "训练测试率: 51.6%\n",
      "校验集测试率: 53.4%\n",
      "第 800 (epoch 0.93) 步\n",
      "训练测试率: 50.0%\n",
      "校验集测试率: 43.3%\n",
      "第 900 (epoch 1.05) 步\n",
      "训练测试率: 39.1%\n",
      "校验集测试率: 32.7%\n",
      "第 1000 (epoch 1.16) 步\n",
      "训练测试率: 32.8%\n",
      "校验集测试率: 27.5%\n",
      "第 1100 (epoch 1.28) 步\n",
      "训练测试率: 25.0%\n",
      "校验集测试率: 22.6%\n",
      "第 1200 (epoch 1.40) 步\n",
      "训练测试率: 25.0%\n",
      "校验集测试率: 19.9%\n",
      "第 1300 (epoch 1.51) 步\n",
      "训练测试率: 9.4%\n",
      "校验集测试率: 17.8%\n",
      "第 1400 (epoch 1.63) 步\n",
      "训练测试率: 10.9%\n",
      "校验集测试率: 16.0%\n",
      "第 1500 (epoch 1.75) 步\n",
      "训练测试率: 10.9%\n",
      "校验集测试率: 15.3%\n",
      "第 1600 (epoch 1.86) 步\n",
      "训练测试率: 7.8%\n",
      "校验集测试率: 14.1%\n",
      "第 1700 (epoch 1.98) 步\n",
      "训练测试率: 3.1%\n",
      "校验集测试率: 13.5%\n",
      "第 1800 (epoch 2.09) 步\n",
      "训练测试率: 4.7%\n",
      "校验集测试率: 12.8%\n",
      "第 1900 (epoch 2.21) 步\n",
      "训练测试率: 15.6%\n",
      "校验集测试率: 12.2%\n",
      "第 2000 (epoch 2.33) 步\n",
      "训练测试率: 6.2%\n",
      "校验集测试率: 11.4%\n",
      "第 2100 (epoch 2.44) 步\n",
      "训练测试率: 10.9%\n",
      "校验集测试率: 11.1%\n",
      "第 2200 (epoch 2.56) 步\n",
      "训练测试率: 15.6%\n",
      "校验集测试率: 10.0%\n",
      "第 2300 (epoch 2.68) 步\n",
      "训练测试率: 14.1%\n",
      "校验集测试率: 9.4%\n",
      "第 2400 (epoch 2.79) 步\n",
      "训练测试率: 3.1%\n",
      "校验集测试率: 9.6%\n",
      "第 2500 (epoch 2.91) 步\n",
      "训练测试率: 6.2%\n",
      "校验集测试率: 9.0%\n",
      "第 2600 (epoch 3.03) 步\n",
      "训练测试率: 4.7%\n",
      "校验集测试率: 9.0%\n",
      "第 2700 (epoch 3.14) 步\n",
      "训练测试率: 14.1%\n",
      "校验集测试率: 8.2%\n",
      "第 2800 (epoch 3.26) 步\n",
      "训练测试率: 6.2%\n",
      "校验集测试率: 7.9%\n",
      "第 2900 (epoch 3.37) 步\n",
      "训练测试率: 17.2%\n",
      "校验集测试率: 7.8%\n",
      "第 3000 (epoch 3.49) 步\n",
      "训练测试率: 10.9%\n",
      "校验集测试率: 7.7%\n",
      "第 3100 (epoch 3.61) 步\n",
      "训练测试率: 10.9%\n",
      "校验集测试率: 7.1%\n",
      "第 3200 (epoch 3.72) 步\n",
      "训练测试率: 7.8%\n",
      "校验集测试率: 7.2%\n",
      "第 3300 (epoch 3.84) 步\n",
      "训练测试率: 6.2%\n",
      "校验集测试率: 6.7%\n",
      "第 3400 (epoch 3.96) 步\n",
      "训练测试率: 7.8%\n",
      "校验集测试率: 6.7%\n",
      "第 3500 (epoch 4.07) 步\n",
      "训练测试率: 9.4%\n",
      "校验集测试率: 6.5%\n",
      "第 3600 (epoch 4.19) 步\n",
      "训练测试率: 3.1%\n",
      "校验集测试率: 6.5%\n",
      "第 3700 (epoch 4.31) 步\n",
      "训练测试率: 7.8%\n",
      "校验集测试率: 6.5%\n",
      "第 3800 (epoch 4.42) 步\n",
      "训练测试率: 12.5%\n",
      "校验集测试率: 5.8%\n",
      "第 3900 (epoch 4.54) 步\n",
      "训练测试率: 6.2%\n",
      "校验集测试率: 5.8%\n",
      "第 4000 (epoch 4.65) 步\n",
      "训练测试率: 10.9%\n",
      "校验集测试率: 5.5%\n",
      "第 4100 (epoch 4.77) 步\n",
      "训练测试率: 6.2%\n",
      "校验集测试率: 5.6%\n",
      "第 4200 (epoch 4.89) 步\n",
      "训练测试率: 3.1%\n",
      "校验集测试率: 5.5%\n",
      "第 4300 (epoch 5.00) 步\n",
      "训练测试率: 7.8%\n",
      "校验集测试率: 5.1%\n",
      "第 4400 (epoch 5.12) 步\n",
      "训练测试率: 4.7%\n",
      "校验集测试率: 5.4%\n",
      "第 4500 (epoch 5.24) 步\n",
      "训练测试率: 1.6%\n",
      "校验集测试率: 5.2%\n",
      "第 4600 (epoch 5.35) 步\n",
      "训练测试率: 6.2%\n",
      "校验集测试率: 5.1%\n",
      "第 4700 (epoch 5.47) 步\n",
      "训练测试率: 3.1%\n",
      "校验集测试率: 4.9%\n",
      "第 4800 (epoch 5.59) 步\n",
      "训练测试率: 10.9%\n",
      "校验集测试率: 5.2%\n",
      "第 4900 (epoch 5.70) 步\n",
      "训练测试率: 3.1%\n",
      "校验集测试率: 4.7%\n",
      "第 5000 (epoch 5.82) 步\n",
      "训练测试率: 10.9%\n",
      "校验集测试率: 4.6%\n",
      "第 5100 (epoch 5.93) 步\n",
      "训练测试率: 4.7%\n",
      "校验集测试率: 5.3%\n",
      "第 5200 (epoch 6.05) 步\n",
      "训练测试率: 9.4%\n",
      "校验集测试率: 4.4%\n",
      "第 5300 (epoch 6.17) 步\n",
      "训练测试率: 7.8%\n",
      "校验集测试率: 5.0%\n",
      "第 5400 (epoch 6.28) 步\n",
      "训练测试率: 7.8%\n",
      "校验集测试率: 4.7%\n",
      "第 5500 (epoch 6.40) 步\n",
      "训练测试率: 4.7%\n",
      "校验集测试率: 4.8%\n",
      "第 5600 (epoch 6.52) 步\n",
      "训练测试率: 4.7%\n",
      "校验集测试率: 4.3%\n",
      "第 5700 (epoch 6.63) 步\n",
      "训练测试率: 10.9%\n",
      "校验集测试率: 3.9%\n",
      "第 5800 (epoch 6.75) 步\n",
      "训练测试率: 1.6%\n",
      "校验集测试率: 4.5%\n",
      "第 5900 (epoch 6.87) 步\n",
      "训练测试率: 0.0%\n",
      "校验集测试率: 4.3%\n",
      "第 6000 (epoch 6.98) 步\n",
      "训练测试率: 6.2%\n",
      "校验集测试率: 4.1%\n",
      "第 6100 (epoch 7.10) 步\n",
      "训练测试率: 4.7%\n",
      "校验集测试率: 4.1%\n",
      "第 6200 (epoch 7.21) 步\n",
      "训练测试率: 3.1%\n",
      "校验集测试率: 3.8%\n",
      "第 6300 (epoch 7.33) 步\n",
      "训练测试率: 6.2%\n",
      "校验集测试率: 4.1%\n",
      "第 6400 (epoch 7.45) 步\n",
      "训练测试率: 6.2%\n",
      "校验集测试率: 3.8%\n",
      "第 6500 (epoch 7.56) 步\n",
      "训练测试率: 4.7%\n",
      "校验集测试率: 3.7%\n",
      "第 6600 (epoch 7.68) 步\n",
      "训练测试率: 6.2%\n",
      "校验集测试率: 3.7%\n",
      "第 6700 (epoch 7.80) 步\n",
      "训练测试率: 1.6%\n",
      "校验集测试率: 3.5%\n",
      "第 6800 (epoch 7.91) 步\n",
      "训练测试率: 3.1%\n",
      "校验集测试率: 3.7%\n",
      "第 6900 (epoch 8.03) 步\n",
      "训练测试率: 6.2%\n",
      "校验集测试率: 3.7%\n",
      "第 7000 (epoch 8.15) 步\n",
      "训练测试率: 1.6%\n",
      "校验集测试率: 3.5%\n",
      "第 7100 (epoch 8.26) 步\n",
      "训练测试率: 1.6%\n",
      "校验集测试率: 3.9%\n",
      "第 7200 (epoch 8.38) 步\n",
      "训练测试率: 1.6%\n",
      "校验集测试率: 3.6%\n",
      "第 7300 (epoch 8.49) 步\n",
      "训练测试率: 3.1%\n",
      "校验集测试率: 3.6%\n",
      "第 7400 (epoch 8.61) 步\n",
      "训练测试率: 1.6%\n",
      "校验集测试率: 3.5%\n",
      "第 7500 (epoch 8.73) 步\n",
      "训练测试率: 6.2%\n",
      "校验集测试率: 3.5%\n",
      "第 7600 (epoch 8.84) 步\n",
      "训练测试率: 3.1%\n",
      "校验集测试率: 3.6%\n",
      "第 7700 (epoch 8.96) 步\n",
      "训练测试率: 3.1%\n",
      "校验集测试率: 3.6%\n",
      "第 7800 (epoch 9.08) 步\n",
      "训练测试率: 1.6%\n",
      "校验集测试率: 3.2%\n",
      "第 7900 (epoch 9.19) 步\n",
      "训练测试率: 3.1%\n",
      "校验集测试率: 3.2%\n",
      "第 8000 (epoch 9.31) 步\n",
      "训练测试率: 7.8%\n",
      "校验集测试率: 3.3%\n",
      "第 8100 (epoch 9.43) 步\n",
      "训练测试率: 6.2%\n",
      "校验集测试率: 3.3%\n",
      "第 8200 (epoch 9.54) 步\n",
      "训练测试率: 4.7%\n",
      "校验集测试率: 3.3%\n",
      "第 8300 (epoch 9.66) 步\n",
      "训练测试率: 6.2%\n",
      "校验集测试率: 3.5%\n",
      "第 8400 (epoch 9.77) 步\n",
      "训练测试率: 1.6%\n",
      "校验集测试率: 3.3%\n",
      "第 8500 (epoch 9.89) 步\n",
      "训练测试率: 4.7%\n",
      "校验集测试率: 3.1%\n",
      "第 8600 (epoch 10.01) 步\n",
      "训练测试率: 4.7%\n",
      "校验集测试率: 3.5%\n",
      "第 8700 (epoch 10.12) 步\n",
      "训练测试率: 3.1%\n",
      "校验集测试率: 3.6%\n",
      "第 8800 (epoch 10.24) 步\n",
      "训练测试率: 0.0%\n",
      "校验集测试率: 3.1%\n",
      "第 8900 (epoch 10.36) 步\n",
      "训练测试率: 4.7%\n",
      "校验集测试率: 3.4%\n",
      "第 9000 (epoch 10.47) 步\n",
      "训练测试率: 4.7%\n",
      "校验集测试率: 3.0%\n",
      "第 9100 (epoch 10.59) 步\n",
      "训练测试率: 0.0%\n",
      "校验集测试率: 3.0%\n",
      "第 9200 (epoch 10.71) 步\n",
      "训练测试率: 6.2%\n",
      "校验集测试率: 3.1%\n",
      "第 9300 (epoch 10.82) 步\n",
      "训练测试率: 3.1%\n",
      "校验集测试率: 3.2%\n",
      "第 9400 (epoch 10.94) 步\n",
      "训练测试率: 6.2%\n",
      "校验集测试率: 2.9%\n",
      "第 9500 (epoch 11.05) 步\n",
      "训练测试率: 10.9%\n",
      "校验集测试率: 3.0%\n",
      "第 9600 (epoch 11.17) 步\n",
      "训练测试率: 3.1%\n",
      "校验集测试率: 2.8%\n",
      "第 9700 (epoch 11.29) 步\n",
      "训练测试率: 1.6%\n",
      "校验集测试率: 3.0%\n",
      "第 9800 (epoch 11.40) 步\n",
      "训练测试率: 3.1%\n",
      "校验集测试率: 2.8%\n",
      "第 9900 (epoch 11.52) 步\n",
      "训练测试率: 4.7%\n",
      "校验集测试率: 2.8%\n",
      "第 10000 (epoch 11.64) 步\n",
      "训练测试率: 1.6%\n",
      "校验集测试率: 2.9%\n",
      "第 10100 (epoch 11.75) 步\n",
      "训练测试率: 1.6%\n",
      "校验集测试率: 2.8%\n",
      "第 10200 (epoch 11.87) 步\n",
      "训练测试率: 1.6%\n",
      "校验集测试率: 2.6%\n",
      "第 10300 (epoch 11.99) 步\n",
      "训练测试率: 4.7%\n",
      "校验集测试率: 3.0%\n",
      "第 10400 (epoch 12.10) 步\n",
      "训练测试率: 1.6%\n",
      "校验集测试率: 2.7%\n",
      "第 10500 (epoch 12.22) 步\n",
      "训练测试率: 3.1%\n",
      "校验集测试率: 2.5%\n",
      "第 10600 (epoch 12.33) 步\n",
      "训练测试率: 1.6%\n",
      "校验集测试率: 2.9%\n",
      "第 10700 (epoch 12.45) 步\n",
      "训练测试率: 3.1%\n",
      "校验集测试率: 2.9%\n",
      "第 10800 (epoch 12.57) 步\n",
      "训练测试率: 3.1%\n",
      "校验集测试率: 2.8%\n",
      "第 10900 (epoch 12.68) 步\n",
      "训练测试率: 3.1%\n",
      "校验集测试率: 2.8%\n",
      "第 11000 (epoch 12.80) 步\n",
      "训练测试率: 1.6%\n",
      "校验集测试率: 2.4%\n",
      "第 11100 (epoch 12.92) 步\n",
      "训练测试率: 6.2%\n",
      "校验集测试率: 2.7%\n",
      "第 11200 (epoch 13.03) 步\n",
      "训练测试率: 3.1%\n",
      "校验集测试率: 2.6%\n",
      "第 11300 (epoch 13.15) 步\n",
      "训练测试率: 4.7%\n",
      "校验集测试率: 2.5%\n",
      "第 11400 (epoch 13.27) 步\n",
      "训练测试率: 0.0%\n",
      "校验集测试率: 2.4%\n",
      "第 11500 (epoch 13.38) 步\n",
      "训练测试率: 7.8%\n",
      "校验集测试率: 2.4%\n",
      "第 11600 (epoch 13.50) 步\n",
      "训练测试率: 1.6%\n",
      "校验集测试率: 2.5%\n",
      "第 11700 (epoch 13.61) 步\n",
      "训练测试率: 6.2%\n",
      "校验集测试率: 2.9%\n",
      "第 11800 (epoch 13.73) 步\n",
      "训练测试率: 4.7%\n",
      "校验集测试率: 2.6%\n",
      "第 11900 (epoch 13.85) 步\n",
      "训练测试率: 1.6%\n",
      "校验集测试率: 2.3%\n",
      "第 12000 (epoch 13.96) 步\n",
      "训练测试率: 3.1%\n",
      "校验集测试率: 2.8%\n",
      "第 12100 (epoch 14.08) 步\n",
      "训练测试率: 6.2%\n",
      "校验集测试率: 2.6%\n",
      "第 12200 (epoch 14.20) 步\n",
      "训练测试率: 4.7%\n",
      "校验集测试率: 2.5%\n",
      "第 12300 (epoch 14.31) 步\n",
      "训练测试率: 0.0%\n",
      "校验集测试率: 2.7%\n",
      "第 12400 (epoch 14.43) 步\n",
      "训练测试率: 0.0%\n",
      "校验集测试率: 2.5%\n",
      "第 12500 (epoch 14.55) 步\n",
      "训练测试率: 1.6%\n",
      "校验集测试率: 2.6%\n",
      "第 12600 (epoch 14.66) 步\n",
      "训练测试率: 0.0%\n",
      "校验集测试率: 2.2%\n",
      "第 12700 (epoch 14.78) 步\n",
      "训练测试率: 4.7%\n",
      "校验集测试率: 2.4%\n",
      "第 12800 (epoch 14.89) 步\n",
      "训练测试率: 1.6%\n",
      "校验集测试率: 2.2%\n",
      "第 12900 (epoch 15.01) 步\n",
      "训练测试率: 0.0%\n",
      "校验集测试率: 2.6%\n",
      "第 13000 (epoch 15.13) 步\n",
      "训练测试率: 1.6%\n",
      "校验集测试率: 2.6%\n",
      "第 13100 (epoch 15.24) 步\n",
      "训练测试率: 3.1%\n",
      "校验集测试率: 2.3%\n",
      "第 13200 (epoch 15.36) 步\n",
      "训练测试率: 4.7%\n",
      "校验集测试率: 2.4%\n",
      "第 13300 (epoch 15.48) 步\n",
      "训练测试率: 1.6%\n",
      "校验集测试率: 2.3%\n",
      "第 13400 (epoch 15.59) 步\n",
      "训练测试率: 3.1%\n",
      "校验集测试率: 2.3%\n",
      "第 13500 (epoch 15.71) 步\n",
      "训练测试率: 3.1%\n",
      "校验集测试率: 2.4%\n",
      "第 13600 (epoch 15.83) 步\n",
      "训练测试率: 1.6%\n",
      "校验集测试率: 2.2%\n",
      "第 13700 (epoch 15.94) 步\n",
      "训练测试率: 0.0%\n",
      "校验集测试率: 2.4%\n",
      "第 13800 (epoch 16.06) 步\n",
      "训练测试率: 0.0%\n",
      "校验集测试率: 2.5%\n",
      "第 13900 (epoch 16.17) 步\n",
      "训练测试率: 0.0%\n",
      "校验集测试率: 2.5%\n",
      "第 14000 (epoch 16.29) 步\n",
      "训练测试率: 0.0%\n",
      "校验集测试率: 2.1%\n",
      "第 14100 (epoch 16.41) 步\n",
      "训练测试率: 0.0%\n",
      "校验集测试率: 2.0%\n",
      "第 14200 (epoch 16.52) 步\n",
      "训练测试率: 3.1%\n",
      "校验集测试率: 2.4%\n",
      "第 14300 (epoch 16.64) 步\n",
      "训练测试率: 12.5%\n",
      "校验集测试率: 2.2%\n",
      "第 14400 (epoch 16.76) 步\n",
      "训练测试率: 1.6%\n",
      "校验集测试率: 2.3%\n",
      "第 14500 (epoch 16.87) 步\n",
      "训练测试率: 4.7%\n",
      "校验集测试率: 2.4%\n",
      "第 14600 (epoch 16.99) 步\n",
      "训练测试率: 0.0%\n",
      "校验集测试率: 2.5%\n",
      "第 14700 (epoch 17.11) 步\n",
      "训练测试率: 3.1%\n",
      "校验集测试率: 2.6%\n",
      "第 14800 (epoch 17.22) 步\n",
      "训练测试率: 3.1%\n",
      "校验集测试率: 2.1%\n",
      "第 14900 (epoch 17.34) 步\n",
      "训练测试率: 1.6%\n",
      "校验集测试率: 2.2%\n",
      "第 15000 (epoch 17.45) 步\n",
      "训练测试率: 1.6%\n",
      "校验集测试率: 2.0%\n",
      "第 15100 (epoch 17.57) 步\n",
      "训练测试率: 3.1%\n",
      "校验集测试率: 2.0%\n",
      "第 15200 (epoch 17.69) 步\n",
      "训练测试率: 1.6%\n",
      "校验集测试率: 2.2%\n",
      "第 15300 (epoch 17.80) 步\n",
      "训练测试率: 6.2%\n",
      "校验集测试率: 2.1%\n",
      "第 15400 (epoch 17.92) 步\n",
      "训练测试率: 0.0%\n",
      "校验集测试率: 2.2%\n",
      "第 15500 (epoch 18.04) 步\n",
      "训练测试率: 4.7%\n",
      "校验集测试率: 2.3%\n",
      "第 15600 (epoch 18.15) 步\n",
      "训练测试率: 3.1%\n",
      "校验集测试率: 2.2%\n",
      "第 15700 (epoch 18.27) 步\n",
      "训练测试率: 3.1%\n",
      "校验集测试率: 2.1%\n",
      "第 15800 (epoch 18.39) 步\n",
      "训练测试率: 1.6%\n",
      "校验集测试率: 2.3%\n",
      "第 15900 (epoch 18.50) 步\n",
      "训练测试率: 4.7%\n",
      "校验集测试率: 2.3%\n",
      "第 16000 (epoch 18.62) 步\n",
      "训练测试率: 1.6%\n",
      "校验集测试率: 2.1%\n",
      "第 16100 (epoch 18.73) 步\n",
      "训练测试率: 3.1%\n",
      "校验集测试率: 2.3%\n",
      "第 16200 (epoch 18.85) 步\n",
      "训练测试率: 4.7%\n",
      "校验集测试率: 2.0%\n",
      "第 16300 (epoch 18.97) 步\n",
      "训练测试率: 1.6%\n",
      "校验集测试率: 2.2%\n",
      "第 16400 (epoch 19.08) 步\n",
      "训练测试率: 1.6%\n",
      "校验集测试率: 2.2%\n",
      "第 16500 (epoch 19.20) 步\n",
      "训练测试率: 1.6%\n",
      "校验集测试率: 2.0%\n",
      "第 16600 (epoch 19.32) 步\n",
      "训练测试率: 1.6%\n",
      "校验集测试率: 2.2%\n",
      "第 16700 (epoch 19.43) 步\n",
      "训练测试率: 6.2%\n",
      "校验集测试率: 2.2%\n",
      "第 16800 (epoch 19.55) 步\n",
      "训练测试率: 3.1%\n",
      "校验集测试率: 2.1%\n",
      "第 16900 (epoch 19.67) 步\n",
      "训练测试率: 4.7%\n",
      "校验集测试率: 2.1%\n"
     ]
    },
    {
     "name": "stdout",
     "output_type": "stream",
     "text": [
      "第 17000 (epoch 19.78) 步\n",
      "训练测试率: 0.0%\n",
      "校验集测试率: 2.2%\n",
      "第 17100 (epoch 19.90) 步\n",
      "训练测试率: 3.1%\n",
      "校验集测试率: 2.0%\n",
      "测试误差: 2.3%\n"
     ]
    }
   ],
   "source": [
    "error_rate_rec = []\n",
    "\n",
    "#获得训练集尺寸\n",
    "train_size = train_labels.shape[0]\n",
    "\n",
    "print('Initialized!')\n",
    "\n",
    "net = ConvNet()\n",
    "\n",
    "criterion = nn.CrossEntropyLoss()\n",
    "optimizer = optim.SGD(net.parameters(), lr=0.001, momentum=0.9)\n",
    "\n",
    "# 开始训练循环，一共进行int(num_epochs * train_size) // BATCH_SIZE次\n",
    "print(int(num_epochs * train_size) // BATCH_SIZE)\n",
    "for step in range(int(num_epochs * train_size) // BATCH_SIZE):\n",
    "    # 计算当前应该访问训练集中的哪一部分数据\n",
    "    # Note that we could use better randomization across epochs.\n",
    "    offset = (step * BATCH_SIZE) % (train_size - BATCH_SIZE)\n",
    "    batch_data = train_data[offset:(offset + BATCH_SIZE), ...]\n",
    "    batch_labels = train_labels[offset:(offset + BATCH_SIZE)]\n",
    "    batch_data = torch.from_numpy(batch_data)\n",
    "    batch_labels = torch.from_numpy(batch_labels)\n",
    "    \n",
    "    inputs, labels = batch_data.clone().detach(), batch_labels.clone().detach()\n",
    "    \n",
    "    \n",
    "    # zero the parameter gradients\n",
    "    optimizer.zero_grad()\n",
    "\n",
    "    # forward + backward + optimize\n",
    "    outputs = net(inputs)\n",
    "    loss = criterion(outputs, labels)\n",
    "    #print(loss)\n",
    "    loss.backward()\n",
    "    optimizer.step()\n",
    "    \n",
    "    if step % EVAL_FREQUENCY == 0:\n",
    "        #每间隔EVAL_FREQUENCY就打印一次预测结果\n",
    "        \n",
    "        print('第 %d (epoch %.2f) 步' %\n",
    "              (step, float(step) * BATCH_SIZE / train_size))\n",
    "        #print('损失函数值: %.3f, 学习率: %.6f' % (l, lr))\n",
    "        predictions = outputs.data.numpy()\n",
    "        #print(predictions.shape)\n",
    "        err_train = error_rate(predictions, labels.data.numpy())\n",
    "        prediction = eval_in_batches(validation_data, net)\n",
    "        err_valid = error_rate(prediction, validation_labels)\n",
    "        print('训练测试率: %.1f%%' % err_train)\n",
    "        print('校验集测试率: %.1f%%' % err_valid)\n",
    "        error_rate_rec.append([err_train,err_valid])\n",
    "        sys.stdout.flush()\n",
    "# 在测试集上实验\n",
    "prediction = eval_in_batches(test_data, net)\n",
    "test_error = error_rate(prediction, test_labels)\n",
    "print('测试误差: %.1f%%' % test_error)\n"
   ]
  },
  {
   "cell_type": "code",
   "execution_count": 25,
   "metadata": {},
   "outputs": [
    {
     "data": {
      "text/plain": [
       "Text(0, 0.5, 'Error Rate')"
      ]
     },
     "execution_count": 25,
     "metadata": {},
     "output_type": "execute_result"
    },
    {
     "data": {
      "image/png": "[encoded data removed]",
      "text/plain": [
       "<Figure size 640x480 with 1 Axes>"
      ]
     },
     "metadata": {},
     "output_type": "display_data"
    }
   ],
   "source": [
    "plt.plot(error_rate_rec)\n",
    "plt.xlabel('Batches')\n",
    "plt.ylabel('Error Rate')"
   ]
  },
  {
   "cell_type": "code",
   "execution_count": 26,
   "metadata": {},
   "outputs": [
    {
     "name": "stdout",
     "output_type": "stream",
     "text": [
      "0.9794671474358975\n"
     ]
    }
   ],
   "source": [
    "\n",
    "#将测试集喂进去，得到计算结果，看一看预测的准确度\n",
    "right = 0\n",
    "batch_num = len(test_data) // BATCH_SIZE\n",
    "for i in range(batch_num):\n",
    "    inputs = test_data[i * BATCH_SIZE : (i + 1) * BATCH_SIZE]\n",
    "    inputs = torch.from_numpy(inputs)\n",
    "    inputs = inputs.clone().detach()\n",
    "    result = net(inputs)\n",
    "    result = result.data.numpy()\n",
    "    \n",
    "    labels = test_labels[i * BATCH_SIZE : (i + 1) * BATCH_SIZE]\n",
    "    right += np.sum(np.argmax(result, 1) == labels)\n",
    "print(right / float(batch_num * BATCH_SIZE))"
   ]
  },
  {
   "cell_type": "code",
   "execution_count": null,
   "metadata": {},
   "outputs": [],
   "source": []
  }
 ],
 "metadata": {
  "kernelspec": {
   "display_name": "Python 3 (ipykernel)",
   "language": "python",
   "name": "python3"
  },
  "language_info": {
   "codemirror_mode": {
    "name": "ipython",
    "version": 3
   },
   "file_extension": ".py",
   "mimetype": "text/x-python",
   "name": "python",
   "nbconvert_exporter": "python",
   "pygments_lexer": "ipython3",
   "version": "3.8.18"
  }
 },
 "nbformat": 4,
 "nbformat_minor": 2
}
